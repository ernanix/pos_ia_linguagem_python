{
 "cells": [
  {
   "cell_type": "markdown",
   "id": "swedish-index",
   "metadata": {},
   "source": [
    "---\n",
    "title: \"Manipulação de Dados com Pandas\"\n",
    "subtitle: \"Linguagem de Programação Aplicada\"\n",
    "author: \"Prof. Alex Kutzke\"\n",
    "date: 17 de abril de 2021\n",
    "geometry: margin=2cm\n",
    "output: \n",
    "  ioslides_presentation:\n",
    "    widescreen: true\n",
    "---\n",
    "\n",
    "# Pandas\n",
    "\n",
    "## O que é Pandas\n",
    " \n",
    "- Pacote que provê ferramentas de alta performance e de fácil aplicação para trabalho com estruturas de dados e análise de dados em Python:"
   ]
  },
  {
   "cell_type": "code",
   "execution_count": null,
   "id": "artistic-digest",
   "metadata": {},
   "outputs": [],
   "source": [
    "import pandas as pd\n",
    "pd?"
   ]
  },
  {
   "cell_type": "markdown",
   "id": "correct-causing",
   "metadata": {},
   "source": [
    "## Importando\n",
    "\n",
    "- Convenção: importar com alias `pd`:"
   ]
  },
  {
   "cell_type": "code",
   "execution_count": null,
   "id": "sacred-prevention",
   "metadata": {},
   "outputs": [],
   "source": [
    "import pandas as pd"
   ]
  },
  {
   "cell_type": "markdown",
   "id": "rotary-beatles",
   "metadata": {},
   "source": [
    "- Os elementos `Series` e `DataFrame` são comumente importados ao espaço de nomes do próprio programa (por serem de uso comum):"
   ]
  },
  {
   "cell_type": "code",
   "execution_count": null,
   "id": "requested-pickup",
   "metadata": {},
   "outputs": [],
   "source": [
    "from pandas import Series, DataFrame"
   ]
  },
  {
   "cell_type": "markdown",
   "id": "rubber-essex",
   "metadata": {},
   "source": [
    "# Introdução às Estruturas de Dados do Pandas\n",
    "\n",
    "## Series\n",
    "\n",
    "- É uma estrutura composta por um array unidimensional de *valores* e outro, de mesmo tamanho, de *índices*;"
   ]
  },
  {
   "cell_type": "code",
   "execution_count": null,
   "id": "hungry-collect",
   "metadata": {},
   "outputs": [],
   "source": [
    "obj = pd.Series([4, 7, -5, 3])\n",
    "obj"
   ]
  },
  {
   "cell_type": "code",
   "execution_count": null,
   "id": "divided-scout",
   "metadata": {},
   "outputs": [],
   "source": [
    "0    4\n",
    "1    7\n",
    "2   -5\n",
    "3    3\n",
    "dtype: int64"
   ]
  },
  {
   "cell_type": "markdown",
   "id": "desperate-webmaster",
   "metadata": {},
   "source": [
    "## Valores e índices"
   ]
  },
  {
   "cell_type": "code",
   "execution_count": null,
   "id": "blocked-leather",
   "metadata": {},
   "outputs": [],
   "source": [
    "obj.values\n",
    "obj.index  # like range(4)"
   ]
  },
  {
   "cell_type": "markdown",
   "id": "identical-washer",
   "metadata": {},
   "source": [
    "- É possível estipular os valores dos índices:"
   ]
  },
  {
   "cell_type": "code",
   "execution_count": null,
   "id": "sophisticated-matrix",
   "metadata": {},
   "outputs": [],
   "source": [
    "obj2 = pd.Series([4, 7, -5, 3], index=['d', 'b', 'a', 'c'])\n",
    "obj2.index"
   ]
  },
  {
   "cell_type": "code",
   "execution_count": null,
   "id": "moral-simpson",
   "metadata": {},
   "outputs": [],
   "source": [
    "Index(['d', 'b', 'a', 'c'], dtype='object')\n"
   ]
  },
  {
   "cell_type": "markdown",
   "id": "premium-collapse",
   "metadata": {},
   "source": [
    "## Valores e índices"
   ]
  },
  {
   "cell_type": "code",
   "execution_count": null,
   "id": "raising-press",
   "metadata": {},
   "outputs": [],
   "source": [
    "obj2['a']\n",
    "obj2['d'] = 6\n",
    "obj2[['c', 'a', 'd']]"
   ]
  },
  {
   "cell_type": "code",
   "execution_count": null,
   "id": "expired-raising",
   "metadata": {},
   "outputs": [],
   "source": [
    "c    3\n",
    "a   -5\n",
    "d    6\n",
    "dtype: int64"
   ]
  },
  {
   "cell_type": "markdown",
   "id": "ambient-consequence",
   "metadata": {},
   "source": [
    "## Valores e índices\n",
    "\n",
    "- Muitas das operações dos ndarrays da NumPy são permitidas:"
   ]
  },
  {
   "cell_type": "code",
   "execution_count": null,
   "id": "amended-pennsylvania",
   "metadata": {},
   "outputs": [],
   "source": [
    "import numpy as np\n",
    "\n",
    "obj2[obj2 > 0]\n",
    "obj2 * 2\n",
    "np.exp(obj2)"
   ]
  },
  {
   "cell_type": "code",
   "execution_count": null,
   "id": "vulnerable-collective",
   "metadata": {},
   "outputs": [],
   "source": [
    "d     403.428793\n",
    "b    1096.633158\n",
    "a       0.006738\n",
    "c      20.085537\n",
    "dtype: float64\n"
   ]
  },
  {
   "cell_type": "markdown",
   "id": "previous-street",
   "metadata": {},
   "source": [
    "## Valores e índices\n",
    "\n",
    "- Pertinência por índice:"
   ]
  },
  {
   "cell_type": "code",
   "execution_count": null,
   "id": "valid-jersey",
   "metadata": {},
   "outputs": [],
   "source": [
    "'b' in obj2\n",
    "'e' in obj2"
   ]
  },
  {
   "cell_type": "markdown",
   "id": "entertaining-classroom",
   "metadata": {},
   "source": [
    "## Inicialização por dicionário"
   ]
  },
  {
   "cell_type": "code",
   "execution_count": null,
   "id": "handed-visitor",
   "metadata": {},
   "outputs": [],
   "source": [
    "sdata = {'Ohio': 35000, 'Texas': 71000, 'Oregon': 16000, 'Utah': 5000}\n",
    "obj3 = pd.Series(sdata)"
   ]
  },
  {
   "cell_type": "code",
   "execution_count": null,
   "id": "reverse-xerox",
   "metadata": {},
   "outputs": [],
   "source": [
    "Ohio      35000\n",
    "Texas     71000\n",
    "Oregon    16000\n",
    "Utah       5000\n",
    "dtype: int64\n"
   ]
  },
  {
   "cell_type": "markdown",
   "id": "mechanical-marble",
   "metadata": {},
   "source": [
    "## Alteração de Índices"
   ]
  },
  {
   "cell_type": "code",
   "execution_count": null,
   "id": "executed-suspension",
   "metadata": {},
   "outputs": [],
   "source": [
    "states = ['California', 'Ohio', 'Oregon', 'Texas']\n",
    "obj4 = pd.Series(sdata, index=states)\n",
    "obj4"
   ]
  },
  {
   "cell_type": "code",
   "execution_count": null,
   "id": "attempted-account",
   "metadata": {},
   "outputs": [],
   "source": [
    "California        NaN\n",
    "Ohio          35000.0\n",
    "Oregon        16000.0\n",
    "Texas         71000.0\n",
    "dtype: float64"
   ]
  },
  {
   "cell_type": "markdown",
   "id": "czech-texas",
   "metadata": {},
   "source": [
    "- Novos valores são adicionados como `NaN`.\n",
    "\n",
    "## Null ou Não Null"
   ]
  },
  {
   "cell_type": "code",
   "execution_count": null,
   "id": "residential-devices",
   "metadata": {},
   "outputs": [],
   "source": [
    "pd.isnull(obj4)\n",
    "pd.notnull(obj4)"
   ]
  },
  {
   "cell_type": "code",
   "execution_count": null,
   "id": "laughing-brazil",
   "metadata": {},
   "outputs": [],
   "source": [
    "California    False\n",
    "Ohio           True\n",
    "Oregon         True\n",
    "Texas          True\n",
    "dtype: bool\n"
   ]
  },
  {
   "cell_type": "code",
   "execution_count": null,
   "id": "agreed-poison",
   "metadata": {},
   "outputs": [],
   "source": [
    "obj4.isnull()"
   ]
  },
  {
   "cell_type": "code",
   "execution_count": null,
   "id": "partial-processing",
   "metadata": {},
   "outputs": [],
   "source": [
    "California     True\n",
    "Ohio          False\n",
    "Oregon        False\n",
    "Texas         False\n",
    "dtype: bool\n"
   ]
  },
  {
   "cell_type": "markdown",
   "id": "aware-lloyd",
   "metadata": {},
   "source": [
    "## Alinhamento de índices\n",
    "\n",
    "- As estruturas do Pandas conseguem perceber (e alinhar) índices iguais em objetos diferentes:\n",
    "  - Isso é levado em conta, automaticamente, nas mais diversas operações:"
   ]
  },
  {
   "cell_type": "code",
   "execution_count": null,
   "id": "stupid-ambassador",
   "metadata": {},
   "outputs": [],
   "source": [
    "obj3 + obj4"
   ]
  },
  {
   "cell_type": "code",
   "execution_count": null,
   "id": "dangerous-paste",
   "metadata": {},
   "outputs": [],
   "source": [
    "California         NaN\n",
    "Ohio           70000.0\n",
    "Oregon         32000.0\n",
    "Texas         142000.0\n",
    "Utah               NaN\n",
    "dtype: float64\n"
   ]
  },
  {
   "cell_type": "markdown",
   "id": "oriented-specific",
   "metadata": {},
   "source": [
    "## Atribuição de nomes\n",
    "\n",
    "- Para facilitar a leitura, é possível adicionar nomes para o objeto e para os índices:"
   ]
  },
  {
   "cell_type": "code",
   "execution_count": null,
   "id": "vanilla-square",
   "metadata": {},
   "outputs": [],
   "source": [
    "obj4.name = 'population'\n",
    "obj4.index.name = 'state'"
   ]
  },
  {
   "cell_type": "code",
   "execution_count": null,
   "id": "comparable-constitution",
   "metadata": {},
   "outputs": [],
   "source": [
    "state\n",
    "California        NaN\n",
    "Ohio          35000.0\n",
    "Oregon        16000.0\n",
    "Texas         71000.0\n",
    "Name: population, dtype: float64\n"
   ]
  },
  {
   "cell_type": "markdown",
   "id": "legendary-baghdad",
   "metadata": {},
   "source": [
    "## Alteração de índices"
   ]
  },
  {
   "cell_type": "code",
   "execution_count": null,
   "id": "fourth-chart",
   "metadata": {},
   "outputs": [],
   "source": [
    "obj.index = ['Bob', 'Steve', 'Jeff', 'Ryan']\n",
    "obj"
   ]
  },
  {
   "cell_type": "code",
   "execution_count": null,
   "id": "intermediate-sheep",
   "metadata": {},
   "outputs": [],
   "source": [
    "Bob      4\n",
    "Steve    7\n",
    "Jeff    -5\n",
    "Ryan     3\n",
    "dtype: int64\n"
   ]
  },
  {
   "cell_type": "markdown",
   "id": "narrow-undergraduate",
   "metadata": {},
   "source": [
    "## DataFrame\n",
    "\n",
    "- Pense em uma lista de `Series`;"
   ]
  },
  {
   "cell_type": "code",
   "execution_count": null,
   "id": "anonymous-sherman",
   "metadata": {},
   "outputs": [],
   "source": [
    "data = {'state': ['Ohio', 'Ohio', 'Ohio', 'Nevada', 'Nevada', 'Nevada'],\n",
    "        'year': [2000, 2001, 2002, 2001, 2002, 2003],\n",
    "        'pop': [1.5, 1.7, 3.6, 2.4, 2.9, 3.2]}\n",
    "frame = pd.DataFrame(data)"
   ]
  },
  {
   "cell_type": "code",
   "execution_count": null,
   "id": "earlier-posting",
   "metadata": {},
   "outputs": [],
   "source": [
    "state  year  pop\n",
    "    0    Ohio  2000  1.5\n",
    "    1    Ohio  2001  1.7\n",
    "    2    Ohio  2002  3.6\n",
    "    3  Nevada  2001  2.4\n",
    "    4  Nevada  2002  2.9\n",
    "    5  Nevada  2003  3.2\n",
    "    "
   ]
  },
  {
   "cell_type": "code",
   "execution_count": null,
   "id": "competitive-escape",
   "metadata": {},
   "outputs": [],
   "source": [
    "frame.head()"
   ]
  },
  {
   "cell_type": "markdown",
   "id": "metallic-helena",
   "metadata": {},
   "source": [
    "## Mais sobre o DataFrame\n",
    "\n",
    "- Especificando a ordenação das colunas:"
   ]
  },
  {
   "cell_type": "code",
   "execution_count": null,
   "id": "upset-princess",
   "metadata": {},
   "outputs": [],
   "source": [
    "pd.DataFrame(data, columns=['year', 'state', 'pop'])"
   ]
  },
  {
   "cell_type": "code",
   "execution_count": null,
   "id": "negative-conference",
   "metadata": {},
   "outputs": [],
   "source": [
    "frame2 = pd.DataFrame(data, columns=['year', 'state', 'pop', 'debt'],\n",
    "                      index=['one', 'two', 'three', 'four',\n",
    "                             'five', 'six'])\n",
    "frame2.columns"
   ]
  },
  {
   "cell_type": "code",
   "execution_count": null,
   "id": "typical-missouri",
   "metadata": {},
   "outputs": [],
   "source": [
    "Index(['year', 'state', 'pop', 'debt'], dtype='object')"
   ]
  },
  {
   "cell_type": "markdown",
   "id": "declared-hudson",
   "metadata": {},
   "source": [
    "## Acessando colunas"
   ]
  },
  {
   "cell_type": "code",
   "execution_count": null,
   "id": "serial-planning",
   "metadata": {},
   "outputs": [],
   "source": [
    "frame2['state']\n",
    "frame2.year"
   ]
  },
  {
   "cell_type": "code",
   "execution_count": null,
   "id": "built-madrid",
   "metadata": {},
   "outputs": [],
   "source": [
    "one      2000\n",
    "two      2001\n",
    "three    2002\n",
    "four     2001\n",
    "five     2002\n",
    "six      2003\n",
    "Name: year, dtype: int64\n"
   ]
  },
  {
   "cell_type": "markdown",
   "id": "processed-country",
   "metadata": {},
   "source": [
    "## Acessando linhas"
   ]
  },
  {
   "cell_type": "code",
   "execution_count": null,
   "id": "opened-sacramento",
   "metadata": {},
   "outputs": [],
   "source": [
    "frame2.loc['three']"
   ]
  },
  {
   "cell_type": "code",
   "execution_count": null,
   "id": "liquid-style",
   "metadata": {},
   "outputs": [],
   "source": [
    "year     2002\n",
    "state    Ohio\n",
    "pop       3.6\n",
    "debt      NaN\n",
    "Name: three, dtype: object"
   ]
  },
  {
   "cell_type": "markdown",
   "id": "continent-large",
   "metadata": {},
   "source": [
    "## Alterando valores\n",
    "\n",
    "- Similar ao NumPy:"
   ]
  },
  {
   "cell_type": "code",
   "execution_count": null,
   "id": "disciplinary-racing",
   "metadata": {},
   "outputs": [],
   "source": [
    "frame2['debt'] = 16.5\n",
    "frame2['debt'] = np.arange(6.)"
   ]
  },
  {
   "cell_type": "code",
   "execution_count": null,
   "id": "occupational-conjunction",
   "metadata": {},
   "outputs": [],
   "source": [
    "val = pd.Series([-1.2, -1.5, -1.7], index=['two', 'four', 'five'])\n",
    "frame2['debt'] = val"
   ]
  },
  {
   "cell_type": "code",
   "execution_count": null,
   "id": "amazing-transparency",
   "metadata": {},
   "outputs": [],
   "source": [
    "frame2['eastern'] = frame2.state == 'Ohio'"
   ]
  },
  {
   "cell_type": "markdown",
   "id": "impressive-bernard",
   "metadata": {},
   "source": [
    "## Nomeando dados"
   ]
  },
  {
   "cell_type": "code",
   "execution_count": null,
   "id": "brown-intelligence",
   "metadata": {},
   "outputs": [],
   "source": [
    "pop = {'Nevada': {2001: 2.4, 2002: 2.9},\n",
    "       'Ohio': {2000: 1.5, 2001: 1.7, 2002: 3.6}}\n",
    "frame3 = pd.DataFrame(pop)"
   ]
  },
  {
   "cell_type": "code",
   "execution_count": null,
   "id": "level-short",
   "metadata": {},
   "outputs": [],
   "source": [
    "frame3.index.name = 'year'; frame3.columns.name = 'state'"
   ]
  },
  {
   "cell_type": "markdown",
   "id": "collective-trouble",
   "metadata": {},
   "source": [
    "## Reindexing"
   ]
  },
  {
   "cell_type": "code",
   "execution_count": null,
   "id": "secondary-holiday",
   "metadata": {},
   "outputs": [],
   "source": [
    "obj = pd.Series([4.5, 7.2, -5.3, 3.6], index=['d', 'b', 'a', 'c'])"
   ]
  },
  {
   "cell_type": "code",
   "execution_count": null,
   "id": "personal-saint",
   "metadata": {},
   "outputs": [],
   "source": [
    "d    4.5\n",
    "b    7.2\n",
    "a   -5.3\n",
    "c    3.6\n",
    "dtype: float64\n"
   ]
  },
  {
   "cell_type": "code",
   "execution_count": null,
   "id": "controversial-ocean",
   "metadata": {},
   "outputs": [],
   "source": [
    "obj2 = obj.reindex(['a', 'b', 'c', 'd', 'e'])"
   ]
  },
  {
   "cell_type": "code",
   "execution_count": null,
   "id": "regulated-discretion",
   "metadata": {},
   "outputs": [],
   "source": [
    "a   -5.3\n",
    "b    7.2\n",
    "c    3.6\n",
    "d    4.5\n",
    "e    NaN\n",
    "dtype: float64"
   ]
  },
  {
   "cell_type": "markdown",
   "id": "knowing-enemy",
   "metadata": {},
   "source": [
    "## Reindexing"
   ]
  },
  {
   "cell_type": "code",
   "execution_count": null,
   "id": "arabic-opportunity",
   "metadata": {},
   "outputs": [],
   "source": [
    "frame = pd.DataFrame(np.arange(9).reshape((3, 3)),\n",
    "                     index=['a', 'c', 'd'],\n",
    "                     columns=['Ohio', 'Texas', 'California'])\n",
    "frame2 = frame.reindex(['a', 'b', 'c', 'd'])"
   ]
  },
  {
   "cell_type": "markdown",
   "id": "pregnant-protocol",
   "metadata": {},
   "source": [
    "## Apagando entradas"
   ]
  },
  {
   "cell_type": "code",
   "execution_count": null,
   "id": "sealed-phoenix",
   "metadata": {},
   "outputs": [],
   "source": [
    "obj = pd.Series(np.arange(5.), index=['a', 'b', 'c', 'd', 'e'])\n",
    "new_obj = obj.drop('c')\n",
    "obj.drop(['d', 'c'])"
   ]
  },
  {
   "cell_type": "code",
   "execution_count": null,
   "id": "medical-segment",
   "metadata": {},
   "outputs": [],
   "source": [
    "a    0.0\n",
    "b    1.0\n",
    "e    4.0\n",
    "dtype: float64\n"
   ]
  },
  {
   "cell_type": "code",
   "execution_count": null,
   "id": "floppy-hamilton",
   "metadata": {},
   "outputs": [],
   "source": [
    "obj.drop('c', inplace=True)\n",
    "obj"
   ]
  },
  {
   "cell_type": "code",
   "execution_count": null,
   "id": "second-powder",
   "metadata": {},
   "outputs": [],
   "source": [
    "a    0.0\n",
    "b    1.0\n",
    "d    3.0\n",
    "e    4.0\n",
    "dtype: float64\n"
   ]
  },
  {
   "cell_type": "markdown",
   "id": "bored-campus",
   "metadata": {},
   "source": [
    "# Indexação, Seleção e Filtros\n",
    "\n",
    "## Indexação\n",
    "\n",
    "- Bastante similar ao NumPy"
   ]
  },
  {
   "cell_type": "code",
   "execution_count": null,
   "id": "significant-stopping",
   "metadata": {},
   "outputs": [],
   "source": [
    "obj = pd.Series(np.arange(4.), index=['a', 'b', 'c', 'd'])\n",
    "obj['b']\n",
    "obj[1]\n",
    "obj[2:4]\n",
    "obj[['b', 'a', 'd']]\n",
    "obj[[1, 3]]\n",
    "obj[obj < 2]"
   ]
  },
  {
   "cell_type": "markdown",
   "id": "intermediate-obligation",
   "metadata": {},
   "source": [
    "## Exemplos de indexação com DataFrame"
   ]
  },
  {
   "cell_type": "code",
   "execution_count": null,
   "id": "technical-lender",
   "metadata": {},
   "outputs": [],
   "source": [
    "data = pd.DataFrame(np.arange(16).reshape((4, 4)),\n",
    "                    index=['Ohio', 'Colorado', 'Utah', 'New York'],\n",
    "                    columns=['one', 'two', 'three', 'four'])\n",
    "data[data['three'] > 5]"
   ]
  },
  {
   "cell_type": "code",
   "execution_count": null,
   "id": "unexpected-electricity",
   "metadata": {},
   "outputs": [],
   "source": [
    "data < 5\n",
    "data[data < 5] = 0"
   ]
  },
  {
   "cell_type": "markdown",
   "id": "ultimate-polish",
   "metadata": {},
   "source": [
    "## Exemplos loc e iloc"
   ]
  },
  {
   "cell_type": "code",
   "execution_count": null,
   "id": "searching-assets",
   "metadata": {},
   "outputs": [],
   "source": [
    "data.iloc[2, [3, 0, 1]]\n",
    "data.iloc[2]\n",
    "data.iloc[[1, 2], [3, 0, 1]]"
   ]
  },
  {
   "cell_type": "code",
   "execution_count": null,
   "id": "express-discussion",
   "metadata": {},
   "outputs": [],
   "source": [
    "data.loc[:'Utah', 'two']\n",
    "data.iloc[:, :3][data.three > 5]"
   ]
  },
  {
   "cell_type": "markdown",
   "id": "dimensional-gauge",
   "metadata": {},
   "source": [
    "# Aritmética e Alinhamento de Dados\n",
    "\n",
    "## Aritmética"
   ]
  },
  {
   "cell_type": "code",
   "execution_count": null,
   "id": "affecting-walnut",
   "metadata": {},
   "outputs": [],
   "source": [
    "s1 = pd.Series([7.3, -2.5, 3.4, 1.5], index=['a', 'c', 'd', 'e'])\n",
    "s2 = pd.Series([-2.1, 3.6, -1.5, 4, 3.1],\n",
    "               index=['a', 'c', 'e', 'f', 'g'])\n",
    "s1 + s2"
   ]
  },
  {
   "cell_type": "code",
   "execution_count": null,
   "id": "infrared-compatibility",
   "metadata": {},
   "outputs": [],
   "source": [
    "a    5.2\n",
    "c    1.1\n",
    "d    NaN\n",
    "e    0.0\n",
    "f    NaN\n",
    "g    NaN\n",
    "dtype: float64\n"
   ]
  },
  {
   "cell_type": "markdown",
   "id": "veterinary-clearance",
   "metadata": {},
   "source": [
    "## Aritmética com DataFrame\n",
    "\n",
    "- Considere:"
   ]
  },
  {
   "cell_type": "code",
   "execution_count": null,
   "id": "southwest-domestic",
   "metadata": {},
   "outputs": [],
   "source": [
    "df1 = pd.DataFrame(np.arange(9.).reshape((3, 3)), columns=list('bcd'),\n",
    "                   index=['Ohio', 'Texas', 'Colorado'])\n",
    "df2 = pd.DataFrame(np.arange(12.).reshape((4, 3)), columns=list('bde'),\n",
    "                   index=['Utah', 'Ohio', 'Texas', 'Oregon'])"
   ]
  },
  {
   "cell_type": "markdown",
   "id": "imperial-police",
   "metadata": {},
   "source": [
    "## Aritmética com DataFrame"
   ]
  },
  {
   "cell_type": "code",
   "execution_count": null,
   "id": "continuing-biography",
   "metadata": {},
   "outputs": [],
   "source": [
    "df1 + df2"
   ]
  },
  {
   "cell_type": "code",
   "execution_count": null,
   "id": "southern-poverty",
   "metadata": {},
   "outputs": [],
   "source": [
    "b   c     d   e\n",
    "            Colorado  NaN NaN   NaN NaN\n",
    "            Ohio      3.0 NaN   6.0 NaN\n",
    "            Oregon    NaN NaN   NaN NaN\n",
    "            Texas     9.0 NaN  12.0 NaN\n",
    "            Utah      NaN NaN   NaN NaN\n",
    "            "
   ]
  },
  {
   "cell_type": "markdown",
   "id": "honey-logic",
   "metadata": {},
   "source": [
    "## Valores de preenchimento"
   ]
  },
  {
   "cell_type": "code",
   "execution_count": null,
   "id": "grave-steering",
   "metadata": {},
   "outputs": [],
   "source": [
    "df1.add(df2, fill_value=0)"
   ]
  },
  {
   "cell_type": "markdown",
   "id": "looking-sterling",
   "metadata": {},
   "source": [
    "## Funções aritméticas com operadores invertidos\n",
    "\n",
    "- Funções aritméticas podem começar com `r`, indicando que a ordem dos operadores deve ser invertida;\n",
    "- Exemplo, as operações abaixo são são idênticas:"
   ]
  },
  {
   "cell_type": "code",
   "execution_count": null,
   "id": "duplicate-principle",
   "metadata": {},
   "outputs": [],
   "source": [
    "1 / df1\n",
    "df1.rdiv(1)"
   ]
  },
  {
   "cell_type": "markdown",
   "id": "constitutional-synthetic",
   "metadata": {},
   "source": [
    "## Operações entre Series e DataFrames"
   ]
  },
  {
   "cell_type": "code",
   "execution_count": null,
   "id": "english-configuration",
   "metadata": {},
   "outputs": [],
   "source": [
    "frame = pd.DataFrame(np.arange(12.).reshape((4, 3)),\n",
    "                     columns=list('bde'),\n",
    "                     index=['Utah', 'Ohio', 'Texas', 'Oregon'])\n",
    "series = frame.iloc[0]"
   ]
  },
  {
   "cell_type": "code",
   "execution_count": null,
   "id": "interstate-blues",
   "metadata": {},
   "outputs": [],
   "source": [
    "frame - series"
   ]
  },
  {
   "cell_type": "markdown",
   "id": "quantitative-dictionary",
   "metadata": {},
   "source": [
    "## Aplicação de Funções e Mapeamento"
   ]
  },
  {
   "cell_type": "code",
   "execution_count": null,
   "id": "dominant-holocaust",
   "metadata": {},
   "outputs": [],
   "source": [
    "frame = pd.DataFrame(np.random.randn(4, 3), columns=list('bde'),\n",
    "                     index=['Utah', 'Ohio', 'Texas', 'Oregon'])\n",
    "frame\n",
    "np.abs(frame)"
   ]
  },
  {
   "cell_type": "markdown",
   "id": "charged-stuff",
   "metadata": {},
   "source": [
    "- Entre outras tantas funções.\n",
    "\n",
    "## Aplicação de Funções e Mapeamento\n",
    "\n",
    "- Aplicar uma função sobre as colunas;"
   ]
  },
  {
   "cell_type": "code",
   "execution_count": null,
   "id": "dominican-publication",
   "metadata": {},
   "outputs": [],
   "source": [
    "f = lambda x: x.max() - x.min()\n",
    "frame.apply(f)"
   ]
  },
  {
   "cell_type": "markdown",
   "id": "perfect-seven",
   "metadata": {},
   "source": [
    "- Ou por linhas:"
   ]
  },
  {
   "cell_type": "code",
   "execution_count": null,
   "id": "comprehensive-friday",
   "metadata": {},
   "outputs": [],
   "source": [
    "frame.apply(f, axis='columns')"
   ]
  },
  {
   "cell_type": "markdown",
   "id": "impressive-worcester",
   "metadata": {},
   "source": [
    "- Ou, ainda, por elemento:"
   ]
  },
  {
   "cell_type": "code",
   "execution_count": null,
   "id": "prepared-jamaica",
   "metadata": {},
   "outputs": [],
   "source": [
    "format = lambda x: '%.2f' % x\n",
    "frame.applymap(format)"
   ]
  },
  {
   "cell_type": "markdown",
   "id": "associate-listening",
   "metadata": {},
   "source": [
    "## Sorting\n",
    "\n",
    "- Ordenação \"por linhas\":"
   ]
  },
  {
   "cell_type": "code",
   "execution_count": null,
   "id": "offensive-composer",
   "metadata": {},
   "outputs": [],
   "source": [
    "frame = pd.DataFrame(np.arange(8).reshape((2, 4)),\n",
    "                     index=['three', 'one'],\n",
    "                     columns=['d', 'a', 'b', 'c'])\n",
    "frame.sort_index()\n",
    "frame.sort_index(axis=1)\n",
    "frame.sort_index(axis=1, ascending=False)"
   ]
  },
  {
   "cell_type": "markdown",
   "id": "forbidden-merit",
   "metadata": {},
   "source": [
    "- Ordenação \"por colunas\":"
   ]
  },
  {
   "cell_type": "code",
   "execution_count": null,
   "id": "transparent-marriage",
   "metadata": {},
   "outputs": [],
   "source": [
    "frame = pd.DataFrame({'b': [4, 7, -3, 2], 'a': [0, 1, 0, 1]})\n",
    "frame.sort_values(by='b')\n",
    "frame.sort_values(by=['a', 'b'])"
   ]
  },
  {
   "cell_type": "markdown",
   "id": "unlikely-alaska",
   "metadata": {},
   "source": [
    "# Exemplo: MovieLens 1M Dataset\n",
    "\n",
    "## Importando dados {.smaller}\n",
    "\n",
    "- Pandas possui vários métodos para leitura e importação de dados nos mais diferentes formatos:"
   ]
  },
  {
   "cell_type": "code",
   "execution_count": null,
   "id": "hungarian-requirement",
   "metadata": {},
   "outputs": [],
   "source": [
    "import pandas as pd\n",
    "# Make display smaller\n",
    "pd.options.display.max_rows = 10\n",
    "\n",
    "unames = ['user_id', 'gender', 'age', 'occupation', 'zip']\n",
    "users = pd.read_table('datasets/movielens/users.dat', sep='::',\n",
    "                      header=None, names=unames)\n",
    "\n",
    "rnames = ['user_id', 'movie_id', 'rating', 'timestamp']\n",
    "ratings = pd.read_table('datasets/movielens/ratings.dat', sep='::',\n",
    "                        header=None, names=rnames)\n",
    "\n",
    "mnames = ['movie_id', 'title', 'genres']\n",
    "movies = pd.read_table('datasets/movielens/movies.dat', sep='::',\n",
    "                       header=None, names=mnames)"
   ]
  },
  {
   "cell_type": "markdown",
   "id": "noble-saskatchewan",
   "metadata": {},
   "source": [
    "## Unindo dados\n",
    "\n",
    "- Algo como um join;\n",
    "- Aqui, o alinhamento automático dos dados faz todo o trabalho \"sujo\":"
   ]
  },
  {
   "cell_type": "code",
   "execution_count": null,
   "id": "loved-spine",
   "metadata": {},
   "outputs": [],
   "source": [
    "data = pd.merge(pd.merge(ratings, users), movies)"
   ]
  },
  {
   "cell_type": "markdown",
   "id": "equal-scale",
   "metadata": {},
   "source": [
    "## Extraindo novas conclusões\n",
    "\n",
    "- Criação de uma tabela \"pivô\", contendo a média de avaliação para todos os filmes, separado por sexo do avaliador:"
   ]
  },
  {
   "cell_type": "code",
   "execution_count": null,
   "id": "diagnostic-marsh",
   "metadata": {},
   "outputs": [],
   "source": [
    "mean_ratings = data.pivot_table('rating', index='title',\n",
    "                                columns='gender', aggfunc='mean')"
   ]
  },
  {
   "cell_type": "markdown",
   "id": "consecutive-simple",
   "metadata": {},
   "source": [
    "## Filmes com mais de 250 classificações\n",
    "\n",
    "- Agrupa avaliações por filme (*title*);\n",
    "- Seleciona aqueles que receberam mais de 250 avaliações:"
   ]
  },
  {
   "cell_type": "code",
   "execution_count": null,
   "id": "searching-individual",
   "metadata": {},
   "outputs": [],
   "source": [
    "ratings_by_title = data.groupby('title').size()\n",
    "ratings_by_title[:10]\n",
    "active_titles = ratings_by_title.index[ratings_by_title >= 250]\n",
    "active_titles"
   ]
  },
  {
   "cell_type": "markdown",
   "id": "later-hobby",
   "metadata": {},
   "source": [
    "## Filmes com mais de 250 classificações"
   ]
  },
  {
   "cell_type": "code",
   "execution_count": null,
   "id": "endless-musician",
   "metadata": {},
   "outputs": [],
   "source": [
    "# Select rows on the index\n",
    "mean_ratings = mean_ratings.loc[active_titles]"
   ]
  },
  {
   "cell_type": "markdown",
   "id": "adverse-trademark",
   "metadata": {},
   "source": [
    "- E os filmes melhor avaliados pela mulheres:"
   ]
  },
  {
   "cell_type": "code",
   "execution_count": null,
   "id": "duplicate-formula",
   "metadata": {},
   "outputs": [],
   "source": [
    "top_female_ratings = mean_ratings.sort_values(by='F', ascending=False)\n",
    "top_female_ratings[:10]"
   ]
  },
  {
   "cell_type": "markdown",
   "id": "therapeutic-third",
   "metadata": {},
   "source": [
    "## Avaliando discrepâncias nas avaliações\n",
    "\n",
    "- Insere nova coluna (diff) com a diferença entre as avaliações de homens e mulheres:"
   ]
  },
  {
   "cell_type": "code",
   "execution_count": null,
   "id": "informed-contemporary",
   "metadata": {},
   "outputs": [],
   "source": [
    "mean_ratings['diff'] = mean_ratings['M'] - mean_ratings['F']"
   ]
  },
  {
   "cell_type": "markdown",
   "id": "julian-carolina",
   "metadata": {},
   "source": [
    "- Ordena pela nova coluna."
   ]
  },
  {
   "cell_type": "code",
   "execution_count": null,
   "id": "rapid-plain",
   "metadata": {},
   "outputs": [],
   "source": [
    "sorted_by_diff = mean_ratings.sort_values(by='diff')\n",
    "sorted_by_diff[:10]"
   ]
  },
  {
   "cell_type": "markdown",
   "id": "material-bruce",
   "metadata": {},
   "source": [
    "## Avaliando discrepâncias nas avaliações"
   ]
  },
  {
   "cell_type": "code",
   "execution_count": null,
   "id": "lightweight-fossil",
   "metadata": {},
   "outputs": [],
   "source": [
    "sorted_by_diff[::-1][:10]"
   ]
  },
  {
   "cell_type": "markdown",
   "id": "postal-budapest",
   "metadata": {},
   "source": [
    "- Qual a interpretação do comando acima?\n",
    "\n",
    "## Outras métricas:"
   ]
  },
  {
   "cell_type": "code",
   "execution_count": null,
   "id": "trained-shelf",
   "metadata": {},
   "outputs": [],
   "source": [
    "# Standard deviation of rating grouped by title\n",
    "rating_std_by_title = data.groupby('title')['rating'].std()\n",
    "# Filter down to active_titles\n",
    "rating_std_by_title = rating_std_by_title.loc[active_titles]\n",
    "# Order Series by value in descending order\n",
    "rating_std_by_title.sort_values(ascending=False)[:10]"
   ]
  },
  {
   "cell_type": "markdown",
   "id": "green-board",
   "metadata": {},
   "source": [
    "## Exercícios\n",
    "\n",
    "1. Trabalhe com o Pandas sobre a base de dados MovieLens e retire novas informações. Por exemplo:\n",
    "  1. Os 10 filmes melhor classificados (com mais de 300 avaliações);\n",
    "  2. Os 10 filmes pior classificados (com mais de 300 avaliações);\n",
    "  3. Quantidade de filmes por gênero (considerar apenas o primeiro gênero de cada filme);\n",
    "  4. Os 10 filmes melhor classificados no gênero \"comedy\".\n",
    "\n",
    "# Referências\n",
    "\n",
    "- McKinney, Wes - Python para Análise de Dados: Tratamento de Dados com Pandas, Numpy e IPython, Editora Novatec, 1a Edição, 2019;"
   ]
  }
 ],
 "metadata": {},
 "nbformat": 4,
 "nbformat_minor": 5
}
