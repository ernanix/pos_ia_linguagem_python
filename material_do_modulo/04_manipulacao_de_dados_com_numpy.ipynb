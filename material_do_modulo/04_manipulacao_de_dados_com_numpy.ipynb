{
 "cells": [
  {
   "cell_type": "markdown",
   "id": "informative-brown",
   "metadata": {},
   "source": [
    "---\n",
    "title: \"Manipulação de Dados com NumPy\"\n",
    "subtitle: \"Linguagem de Programação Aplicada<br>Semana 2 / Parte 2\"\n",
    "author: \"Prof. Alex Kutzke\"\n",
    "date: 17 de abril de 2021\n",
    "geometry: margin=2cm\n",
    "output: \n",
    "  ioslides_presentation:\n",
    "    widescreen: true\n",
    "---\n",
    "\n",
    "# NumPy\n",
    "\n",
    "## O que é NumPy\n",
    "\n",
    "- Pacote fundamento para computação científica com Python;\n",
    "- Funcionalidades principais:\n",
    "  - Objeto Array para itens homogêneos e arbitrários;\n",
    "  - **Operações rápidas sobre arrays**;\n",
    "  - Transformadas de Fourier e Algebra linear e geração de números aleatórios;\n",
    "\n",
    "## Importando\n",
    "\n",
    "- Costuma-se importar a biblioteca `numpy` com a *alias* `np`:"
   ]
  },
  {
   "cell_type": "code",
   "execution_count": null,
   "id": "infectious-strengthening",
   "metadata": {},
   "outputs": [],
   "source": [
    "import numpy as np\n",
    "\n",
    "np?"
   ]
  },
  {
   "cell_type": "markdown",
   "id": "extraordinary-medline",
   "metadata": {},
   "source": [
    "- Comparando o objeto *array numpy* com uma lista python:"
   ]
  },
  {
   "cell_type": "code",
   "execution_count": null,
   "id": "celtic-sigma",
   "metadata": {},
   "outputs": [],
   "source": [
    "my_arr = np.arange(1000000)\n",
    "my_list = list(range(1000000))\n",
    "\n",
    "%time for _ in range(10): my_arr2 = my_arr * 2\n",
    "%time for _ in range(10): my_list2 = [x * 2 for x in my_list]"
   ]
  },
  {
   "cell_type": "code",
   "execution_count": null,
   "id": "abstract-democracy",
   "metadata": {},
   "outputs": [],
   "source": [
    "CPU times: user 58.1 ms, sys: 35.9 ms, total: 94 ms\n",
    "Wall time: 95.4 ms\n",
    "CPU times: user 1.1 s, sys: 270 ms, total: 1.38 s\n",
    "Wall time: 1.41 s"
   ]
  },
  {
   "cell_type": "markdown",
   "id": "surface-adaptation",
   "metadata": {},
   "source": [
    "- Muito mais rápido! Por quê?\n",
    "\n",
    "# NumPy ndarray: Um objeto Array Multidimensional\n",
    "\n",
    "## Criando um array aleatório"
   ]
  },
  {
   "cell_type": "code",
   "execution_count": null,
   "id": "handed-manner",
   "metadata": {},
   "outputs": [],
   "source": [
    "import numpy as np\n",
    "\n",
    "# Generate some random data\n",
    "data = np.random.randn(2, 3)\n",
    "data"
   ]
  },
  {
   "cell_type": "code",
   "execution_count": null,
   "id": "confident-premium",
   "metadata": {},
   "outputs": [],
   "source": [
    "array([[-0.2047,  0.4789, -0.5194],\n",
    "       [-0.5557,  1.9658,  1.3934]])\n"
   ]
  },
  {
   "cell_type": "markdown",
   "id": "veterinary-twist",
   "metadata": {},
   "source": [
    "## Operações aritméticas sobre arrays"
   ]
  },
  {
   "cell_type": "code",
   "execution_count": null,
   "id": "detected-taiwan",
   "metadata": {},
   "outputs": [],
   "source": [
    "data * 10\n",
    "data + data"
   ]
  },
  {
   "cell_type": "code",
   "execution_count": null,
   "id": "paperback-punishment",
   "metadata": {},
   "outputs": [],
   "source": [
    "array([[-0.4094,  0.9579, -1.0389],\n",
    "       [-1.1115,  3.9316,  2.7868]])"
   ]
  },
  {
   "cell_type": "markdown",
   "id": "twelve-expense",
   "metadata": {},
   "source": [
    "## Propriedades shape e dtype\n",
    "\n",
    "- **shape**: tupla que indica o formato do array (tamanho de cada dimensão);\n",
    "- **dtype**: indica o tipo de dados armazenado pelo array:\n",
    "  - tipos definidos pela própria `numpy`."
   ]
  },
  {
   "cell_type": "code",
   "execution_count": null,
   "id": "short-arrest",
   "metadata": {},
   "outputs": [],
   "source": [
    "data.shape\n",
    "data.dtype"
   ]
  },
  {
   "cell_type": "code",
   "execution_count": null,
   "id": "massive-rouge",
   "metadata": {},
   "outputs": [],
   "source": [
    "dtype('float64')"
   ]
  },
  {
   "cell_type": "markdown",
   "id": "massive-uruguay",
   "metadata": {},
   "source": [
    "## Criando `ndarrays`"
   ]
  },
  {
   "cell_type": "code",
   "execution_count": null,
   "id": "handy-translation",
   "metadata": {},
   "outputs": [],
   "source": [
    "data1 = [6, 7.5, 8, 0, 1]\n",
    "arr1 = np.array(data1)\n",
    "arr1"
   ]
  },
  {
   "cell_type": "code",
   "execution_count": null,
   "id": "obvious-recognition",
   "metadata": {},
   "outputs": [],
   "source": [
    "array([6. , 7.5, 8. , 0. , 1. ])"
   ]
  },
  {
   "cell_type": "code",
   "execution_count": null,
   "id": "returning-investigator",
   "metadata": {},
   "outputs": [],
   "source": [
    "data2 = [[1, 2, 3, 4], [5, 6, 7, 8]]\n",
    "arr2 = np.array(data2)\n",
    "arr2"
   ]
  },
  {
   "cell_type": "code",
   "execution_count": null,
   "id": "honest-uniform",
   "metadata": {},
   "outputs": [],
   "source": [
    "array([[1, 2, 3, 4],\n",
    "       [5, 6, 7, 8]])"
   ]
  },
  {
   "cell_type": "markdown",
   "id": "defined-server",
   "metadata": {},
   "source": [
    "## Criando ndarrays"
   ]
  },
  {
   "cell_type": "code",
   "execution_count": null,
   "id": "great-forwarding",
   "metadata": {},
   "outputs": [],
   "source": [
    "arr2.ndim     # 2\n",
    "arr2.shape    # (2,4)"
   ]
  },
  {
   "cell_type": "code",
   "execution_count": null,
   "id": "naked-sending",
   "metadata": {},
   "outputs": [],
   "source": [
    "arr1.dtype       # dtype('float64')\n",
    "arr2.dtype       # dtype('int64')"
   ]
  },
  {
   "cell_type": "markdown",
   "id": "loaded-portfolio",
   "metadata": {},
   "source": [
    "## Criando ndarrays: outras formas"
   ]
  },
  {
   "cell_type": "code",
   "execution_count": null,
   "id": "scientific-knight",
   "metadata": {},
   "outputs": [],
   "source": [
    "np.zeros(10)\n",
    "np.zeros((3, 6))\n",
    "np.empty((2, 3, 2))"
   ]
  },
  {
   "cell_type": "markdown",
   "id": "patient-cabin",
   "metadata": {},
   "source": [
    "- `np.empty` não garante valores nulos."
   ]
  },
  {
   "cell_type": "code",
   "execution_count": null,
   "id": "surface-crest",
   "metadata": {},
   "outputs": [],
   "source": [
    "np.arange(15)"
   ]
  },
  {
   "cell_type": "code",
   "execution_count": null,
   "id": "juvenile-external",
   "metadata": {},
   "outputs": [],
   "source": [
    "array([ 0,  1,  2,  3,  4,  5,  6,  7,  8,  9, 10, 11, 12, 13, 14])\n",
    "\n"
   ]
  },
  {
   "cell_type": "markdown",
   "id": "herbal-republic",
   "metadata": {},
   "source": [
    "## Tipos de Dados para ndarrays\n",
    "\n",
    "- É possível estipular o tipo de dados a ser utilizado no array:\n",
    "  - A melhor conversão será utilizada."
   ]
  },
  {
   "cell_type": "code",
   "execution_count": null,
   "id": "innovative-mambo",
   "metadata": {},
   "outputs": [],
   "source": [
    "arr1 = np.array([1, 2, 3], dtype=np.float64)\n",
    "arr2 = np.array([1, 2, 3], dtype=np.int32)\n",
    "arr1.dtype         # dtype('float64')\n",
    "arr2.dtype         # dtype('int32')"
   ]
  },
  {
   "cell_type": "markdown",
   "id": "incorporated-diagnosis",
   "metadata": {},
   "source": [
    "- `astype` converte arrays para outros tipos de dados:\n",
    "  - um novo array é criado."
   ]
  },
  {
   "cell_type": "code",
   "execution_count": null,
   "id": "lesser-thickness",
   "metadata": {},
   "outputs": [],
   "source": [
    "arr = np.array([1, 2, 3, 4, 5])\n",
    "arr.dtype\n",
    "float_arr = arr.astype(np.float64)\n",
    "float_arr.dtype                     # dtype('float64')"
   ]
  },
  {
   "cell_type": "markdown",
   "id": "brutal-question",
   "metadata": {},
   "source": [
    "## Mais exemplos de conversão de tipos\n",
    "\n",
    "- De float para int, a parte decimal é truncada:"
   ]
  },
  {
   "cell_type": "code",
   "execution_count": null,
   "id": "outer-induction",
   "metadata": {},
   "outputs": [],
   "source": [
    "arr = np.array([3.7, -1.2, -2.6, 0.5, 12.9, 10.1])\n",
    "arr\n",
    "arr.astype(np.int32)"
   ]
  },
  {
   "cell_type": "code",
   "execution_count": null,
   "id": "composite-assault",
   "metadata": {},
   "outputs": [],
   "source": [
    "array([ 3, -1, -2,  0, 12, 10], dtype=int32)"
   ]
  },
  {
   "cell_type": "markdown",
   "id": "heard-marketplace",
   "metadata": {},
   "source": [
    "- Existe ainda a conversão automática de string para números:"
   ]
  },
  {
   "cell_type": "code",
   "execution_count": null,
   "id": "incredible-wisconsin",
   "metadata": {},
   "outputs": [],
   "source": [
    "numeric_strings = np.array(['1.25', '-9.6', '42'], dtype=np.string_)\n",
    "numeric_strings.astype(float)"
   ]
  },
  {
   "cell_type": "markdown",
   "id": "excited-croatia",
   "metadata": {},
   "source": [
    "array([ 1.25, -9.6 , 42.  ])\n",
    "    \n",
    "## dtype é, em si, um tipo de dado"
   ]
  },
  {
   "cell_type": "code",
   "execution_count": null,
   "id": "greater-trustee",
   "metadata": {},
   "outputs": [],
   "source": [
    "int_array = np.arange(10)\n",
    "calibers = np.array([.22, .270, .357, .380, .44, .50], dtype=np.float64)\n",
    "int_array.astype(calibers.dtype)"
   ]
  },
  {
   "cell_type": "code",
   "execution_count": null,
   "id": "scientific-brunei",
   "metadata": {},
   "outputs": [],
   "source": [
    "array([0., 1., 2., 3., 4., 5., 6., 7., 8., 9.])"
   ]
  },
  {
   "cell_type": "markdown",
   "id": "spectacular-latitude",
   "metadata": {},
   "source": [
    "# Aritmética com arrays NumPy\n",
    "\n",
    "## Operações aritméticas\n",
    "\n",
    "- Ótima funcionalidade da biblioteca;\n",
    "- Operações aritméticas de todos os tipos podem ser aplicadas em arrays (inclusive multidimensionais) sem a necessidade de laços:\n",
    "  - Muito mais rápido;"
   ]
  },
  {
   "cell_type": "code",
   "execution_count": null,
   "id": "representative-profit",
   "metadata": {},
   "outputs": [],
   "source": [
    "arr = np.array([[1., 2., 3.], [4., 5., 6.]])\n",
    "arr\n",
    "arr * arr\n",
    "arr - arr"
   ]
  },
  {
   "cell_type": "markdown",
   "id": "adjustable-claim",
   "metadata": {},
   "source": [
    "- Operações com escalares são propagadas para cada elemento:"
   ]
  },
  {
   "cell_type": "code",
   "execution_count": null,
   "id": "roman-norway",
   "metadata": {},
   "outputs": [],
   "source": [
    "1 / arr\n",
    "arr ** 0.5"
   ]
  },
  {
   "cell_type": "markdown",
   "id": "interior-fifteen",
   "metadata": {},
   "source": [
    "## Operações booleanas\n",
    "\n",
    "- Ar comparações entre arrays de mesmo tamanho, resultam em array booleanos:"
   ]
  },
  {
   "cell_type": "code",
   "execution_count": null,
   "id": "major-marking",
   "metadata": {},
   "outputs": [],
   "source": [
    "arr2 = np.array([[0., 4., 1.], [7., 2., 12.]])\n",
    "arr2\n",
    "arr2 > arr"
   ]
  },
  {
   "cell_type": "code",
   "execution_count": null,
   "id": "nuclear-feedback",
   "metadata": {},
   "outputs": [],
   "source": [
    "array([[False,  True, False],\n",
    "       [ True, False,  True]])"
   ]
  },
  {
   "cell_type": "markdown",
   "id": "juvenile-panama",
   "metadata": {},
   "source": [
    "- Será utilizada juntamente com o recurso de **indexação booleana**.\n",
    "\n",
    "## Indexação e Fatiamento\n",
    "\n",
    "- Bastante similar à indexação e fatiamento padrão das listas Python:"
   ]
  },
  {
   "cell_type": "code",
   "execution_count": null,
   "id": "rising-commitment",
   "metadata": {},
   "outputs": [],
   "source": [
    "arr = np.arange(10)"
   ]
  },
  {
   "cell_type": "code",
   "execution_count": null,
   "id": "aggressive-chancellor",
   "metadata": {},
   "outputs": [],
   "source": [
    "array([ 0,  1,  2,  3,  4, 12, 12, 12,  8,  9])"
   ]
  },
  {
   "cell_type": "code",
   "execution_count": null,
   "id": "bizarre-banking",
   "metadata": {},
   "outputs": [],
   "source": [
    "arr[5]\n",
    "arr[5:8]\n",
    "arr[5:8] = 12"
   ]
  },
  {
   "cell_type": "code",
   "execution_count": null,
   "id": "illegal-wisdom",
   "metadata": {},
   "outputs": [],
   "source": [
    "array([ 0,  1,  2,  3,  4, 12, 12, 12,  8,  9])\n"
   ]
  },
  {
   "cell_type": "markdown",
   "id": "attractive-danish",
   "metadata": {},
   "source": [
    "## Fatiamento não gera cópia\n",
    "\n",
    "- Atenção: fatiamento de `ndarray` não gera copia (são apenas *views*):\n",
    "  - Alterações realizadas serão persistidas no array original."
   ]
  },
  {
   "cell_type": "code",
   "execution_count": null,
   "id": "accompanied-inspiration",
   "metadata": {},
   "outputs": [],
   "source": [
    "arr_slice = arr[5:8]\n",
    "arr_slice"
   ]
  },
  {
   "cell_type": "code",
   "execution_count": null,
   "id": "detected-rescue",
   "metadata": {},
   "outputs": [],
   "source": [
    "array([12, 12, 12])\n"
   ]
  },
  {
   "cell_type": "code",
   "execution_count": null,
   "id": "designed-senate",
   "metadata": {},
   "outputs": [],
   "source": [
    "arr_slice[1] = 12345\n",
    "arr"
   ]
  },
  {
   "cell_type": "code",
   "execution_count": null,
   "id": "prescribed-establishment",
   "metadata": {},
   "outputs": [],
   "source": [
    "array([    0,     1,     2,     3,     4,    12, 12345,    12,     8,\n",
    "           9])"
   ]
  },
  {
   "cell_type": "markdown",
   "id": "plastic-brain",
   "metadata": {},
   "source": [
    "## Fatiamento não gera cópia\n",
    "\n",
    "- Mais um exemplo:"
   ]
  },
  {
   "cell_type": "code",
   "execution_count": null,
   "id": "further-breathing",
   "metadata": {},
   "outputs": [],
   "source": [
    "arr_slice[:] = 64\n",
    "arr"
   ]
  },
  {
   "cell_type": "code",
   "execution_count": null,
   "id": "inside-denial",
   "metadata": {},
   "outputs": [],
   "source": [
    "array([ 0,  1,  2,  3,  4, 64, 64, 64,  8,  9])"
   ]
  },
  {
   "cell_type": "markdown",
   "id": "future-samoa",
   "metadata": {},
   "source": [
    "- Para gerar uma cópia, é possível utilizar o método `.copy`:"
   ]
  },
  {
   "cell_type": "code",
   "execution_count": null,
   "id": "canadian-liverpool",
   "metadata": {},
   "outputs": [],
   "source": [
    "arr[5:8].copy()"
   ]
  },
  {
   "cell_type": "markdown",
   "id": "shared-maker",
   "metadata": {},
   "source": [
    "## Arrays multidimensionais"
   ]
  },
  {
   "cell_type": "code",
   "execution_count": null,
   "id": "numerous-contest",
   "metadata": {},
   "outputs": [],
   "source": [
    "arr2d = np.array([[1, 2, 3], [4, 5, 6], [7, 8, 9]])\n",
    "arr2d[2]"
   ]
  },
  {
   "cell_type": "code",
   "execution_count": null,
   "id": "hungry-publication",
   "metadata": {},
   "outputs": [],
   "source": [
    "array([7, 8, 9])"
   ]
  },
  {
   "cell_type": "markdown",
   "id": "complete-permit",
   "metadata": {},
   "source": [
    "- Indexação multidimensional tem duas formas;"
   ]
  },
  {
   "cell_type": "code",
   "execution_count": null,
   "id": "positive-feeling",
   "metadata": {},
   "outputs": [],
   "source": [
    "arr2d[0][2]\n",
    "arr2d[0, 2]"
   ]
  },
  {
   "cell_type": "markdown",
   "id": "progressive-religion",
   "metadata": {},
   "source": [
    "## Mais de duas dimensões\n",
    "\n",
    "- É possível ter arrays de N dimensões:"
   ]
  },
  {
   "cell_type": "code",
   "execution_count": null,
   "id": "irish-vienna",
   "metadata": {},
   "outputs": [],
   "source": [
    "arr3d = np.array([[[1, 2, 3], [4, 5, 6]], [[7, 8, 9], [10, 11, 12]]])\n",
    "arr3d"
   ]
  },
  {
   "cell_type": "code",
   "execution_count": null,
   "id": "persistent-guidance",
   "metadata": {},
   "outputs": [],
   "source": [
    "array([[[ 1,  2,  3],\n",
    "        [ 4,  5,  6]],\n",
    "\n",
    "       [[ 7,  8,  9],\n",
    "        [10, 11, 12]]])\n"
   ]
  },
  {
   "cell_type": "code",
   "execution_count": null,
   "id": "decimal-radical",
   "metadata": {},
   "outputs": [],
   "source": [
    "arr3d[0]"
   ]
  },
  {
   "cell_type": "code",
   "execution_count": null,
   "id": "fuzzy-introduction",
   "metadata": {},
   "outputs": [],
   "source": [
    "array([[1, 2, 3],\n",
    "       [4, 5, 6]])"
   ]
  },
  {
   "cell_type": "markdown",
   "id": "small-angel",
   "metadata": {},
   "source": [
    "## Exemplos de fatiamento multidimensional"
   ]
  },
  {
   "cell_type": "code",
   "execution_count": null,
   "id": "historical-thesaurus",
   "metadata": {},
   "outputs": [],
   "source": [
    "arr2d = np.array([[1, 2, 3], [4, 5, 6], [7, 8, 9]])\n",
    "arr2d[:2]"
   ]
  },
  {
   "cell_type": "code",
   "execution_count": null,
   "id": "proprietary-nothing",
   "metadata": {},
   "outputs": [],
   "source": [
    "array([[1, 2, 3],\n",
    "       [4, 5, 6]])"
   ]
  },
  {
   "cell_type": "code",
   "execution_count": null,
   "id": "statewide-advocacy",
   "metadata": {},
   "outputs": [],
   "source": [
    "arr2d[:2, 1:]"
   ]
  },
  {
   "cell_type": "code",
   "execution_count": null,
   "id": "assisted-study",
   "metadata": {},
   "outputs": [],
   "source": [
    "array([[2, 3],\n",
    "       [5, 6]])"
   ]
  },
  {
   "cell_type": "markdown",
   "id": "relevant-adams",
   "metadata": {},
   "source": [
    "## Exemplos de fatiamento multidimensional"
   ]
  },
  {
   "cell_type": "code",
   "execution_count": null,
   "id": "beneficial-seeker",
   "metadata": {},
   "outputs": [],
   "source": [
    "arr2d[1, :2]"
   ]
  },
  {
   "cell_type": "code",
   "execution_count": null,
   "id": "ordinary-timing",
   "metadata": {},
   "outputs": [],
   "source": [
    "array([4, 5])\n"
   ]
  },
  {
   "cell_type": "code",
   "execution_count": null,
   "id": "constitutional-compiler",
   "metadata": {},
   "outputs": [],
   "source": [
    "arr2d[:2, 2]"
   ]
  },
  {
   "cell_type": "code",
   "execution_count": null,
   "id": "creative-newcastle",
   "metadata": {},
   "outputs": [],
   "source": [
    "array([3, 6])\n"
   ]
  },
  {
   "cell_type": "markdown",
   "id": "chubby-collection",
   "metadata": {},
   "source": [
    "## Exemplos de fatiamento multidimensional"
   ]
  },
  {
   "cell_type": "code",
   "execution_count": null,
   "id": "blocked-forge",
   "metadata": {},
   "outputs": [],
   "source": [
    "arr2d[:, :1]"
   ]
  },
  {
   "cell_type": "code",
   "execution_count": null,
   "id": "atomic-python",
   "metadata": {},
   "outputs": [],
   "source": [
    "array([[1],\n",
    "       [4],\n",
    "       [7]])\n"
   ]
  },
  {
   "cell_type": "markdown",
   "id": "athletic-montgomery",
   "metadata": {},
   "source": [
    "- Atribuições a uma expressão de fatia é aplicada a toda seleção:"
   ]
  },
  {
   "cell_type": "code",
   "execution_count": null,
   "id": "optional-forge",
   "metadata": {},
   "outputs": [],
   "source": [
    "arr2d[:2, 1:] = 0\n",
    "arr2d"
   ]
  },
  {
   "cell_type": "code",
   "execution_count": null,
   "id": "mature-literature",
   "metadata": {},
   "outputs": [],
   "source": [
    "array([[1, 0, 0],\n",
    "       [4, 0, 0],\n",
    "       [7, 8, 9]])\n"
   ]
  },
  {
   "cell_type": "markdown",
   "id": "educated-anniversary",
   "metadata": {},
   "source": [
    "## Exemplos de fatiamento multidimensional \n",
    "\n",
    "<div class=\"centered\">\n",
    "![](img/numpy-2d-array-slice.png){ width=60% }\n",
    "</div>\n",
    "\n",
    "## Indexação Booleana"
   ]
  },
  {
   "cell_type": "code",
   "execution_count": null,
   "id": "going-produce",
   "metadata": {},
   "outputs": [],
   "source": [
    "names = np.array(['Bob', 'Joe', 'Will', 'Bob', 'Will', 'Joe', 'Joe'])\n",
    "data = np.random.randn(7, 4)"
   ]
  },
  {
   "cell_type": "code",
   "execution_count": null,
   "id": "oriental-summary",
   "metadata": {},
   "outputs": [],
   "source": [
    "array(['Bob', 'Joe', 'Will', 'Bob', 'Will', 'Joe', 'Joe'], dtype='<U4')\n",
    "\n",
    "array([[ 0.0929,  0.2817,  0.769 ,  1.2464],\n",
    "       [ 1.0072, -1.2962,  0.275 ,  0.2289],\n",
    "       [ 1.3529,  0.8864, -2.0016, -0.3718],\n",
    "       [ 1.669 , -0.4386, -0.5397,  0.477 ],\n",
    "       [ 3.2489, -1.0212, -0.5771,  0.1241],\n",
    "       [ 0.3026,  0.5238,  0.0009,  1.3438],\n",
    "       [-0.7135, -0.8312, -2.3702, -1.8608]])"
   ]
  },
  {
   "cell_type": "markdown",
   "id": "measured-chess",
   "metadata": {},
   "source": [
    "## Indexação Booleana\n",
    "\n",
    "- Já conhecemos as operações de comparação sobre arrays:"
   ]
  },
  {
   "cell_type": "code",
   "execution_count": null,
   "id": "shared-spelling",
   "metadata": {},
   "outputs": [],
   "source": [
    "names == 'Bob'"
   ]
  },
  {
   "cell_type": "code",
   "execution_count": null,
   "id": "elder-dollar",
   "metadata": {},
   "outputs": [],
   "source": [
    "array([ True, False, False,  True, False, False, False])"
   ]
  },
  {
   "cell_type": "markdown",
   "id": "oriented-vietnam",
   "metadata": {},
   "source": [
    "- O interessante é a utilização desse resultado como indexador:"
   ]
  },
  {
   "cell_type": "code",
   "execution_count": null,
   "id": "lucky-cinema",
   "metadata": {},
   "outputs": [],
   "source": [
    "data[names == 'Bob']"
   ]
  },
  {
   "cell_type": "code",
   "execution_count": null,
   "id": "accredited-child",
   "metadata": {},
   "outputs": [],
   "source": [
    "array([[ 0.0929,  0.2817,  0.769 ,  1.2464],\n",
    "       [ 1.669 , -0.4386, -0.5397,  0.477 ]])"
   ]
  },
  {
   "cell_type": "markdown",
   "id": "uniform-mailing",
   "metadata": {},
   "source": [
    "- Para cara `True`, o elemento da posição é adicionado à view de saída.\n",
    "\n",
    "## Indexação Booleana: outros exemplos\n",
    "\n",
    "- Diferentes construções com as funcionalidades vistas até aqui são possíveis:"
   ]
  },
  {
   "cell_type": "code",
   "execution_count": null,
   "id": "alternate-penguin",
   "metadata": {},
   "outputs": [],
   "source": [
    "data[names == 'Bob', 2:]"
   ]
  },
  {
   "cell_type": "code",
   "execution_count": null,
   "id": "extreme-jason",
   "metadata": {},
   "outputs": [],
   "source": [
    "data[names == 'Bob', 3]"
   ]
  },
  {
   "cell_type": "markdown",
   "id": "auburn-mineral",
   "metadata": {},
   "source": [
    "- Indexação com operações de negação:"
   ]
  },
  {
   "cell_type": "code",
   "execution_count": null,
   "id": "above-endorsement",
   "metadata": {},
   "outputs": [],
   "source": [
    "names != 'Bob'\n",
    "data[~(names == 'Bob')]"
   ]
  },
  {
   "cell_type": "markdown",
   "id": "hired-syndicate",
   "metadata": {},
   "source": [
    "## Indexação Booleana: máscaras"
   ]
  },
  {
   "cell_type": "code",
   "execution_count": null,
   "id": "pleased-yesterday",
   "metadata": {},
   "outputs": [],
   "source": [
    "mask = (names == 'Bob') | (names == 'Will')\n",
    "mask\n",
    "data[mask]"
   ]
  },
  {
   "cell_type": "code",
   "execution_count": null,
   "id": "frequent-species",
   "metadata": {},
   "outputs": [],
   "source": [
    "array([[ 0.0929,  0.2817,  0.769 ,  1.2464],\n",
    "       [ 1.3529,  0.8864, -2.0016, -0.3718],\n",
    "       [ 1.669 , -0.4386, -0.5397,  0.477 ],\n",
    "       [ 3.2489, -1.0212, -0.5771,  0.1241]])"
   ]
  },
  {
   "cell_type": "markdown",
   "id": "pretty-extent",
   "metadata": {},
   "source": [
    "- Operador `|` é diferente de `or`.\n",
    "\n",
    "## Indexação Booleana: atribuições\n",
    "\n",
    "- Atribuições com o auxílio de indexação booleana são aplicadas a todas os elementos com valor `True`:"
   ]
  },
  {
   "cell_type": "code",
   "execution_count": null,
   "id": "velvet-catalog",
   "metadata": {},
   "outputs": [],
   "source": [
    "data[data < 0] = 0\n",
    "data"
   ]
  },
  {
   "cell_type": "code",
   "execution_count": null,
   "id": "dried-stereo",
   "metadata": {},
   "outputs": [],
   "source": [
    "array([[0.0929, 0.2817, 0.769 , 1.2464],\n",
    "       [1.0072, 0.    , 0.275 , 0.2289],\n",
    "       [1.3529, 0.8864, 0.    , 0.    ],\n",
    "       [1.669 , 0.    , 0.    , 0.477 ],\n",
    "       [3.2489, 0.    , 0.    , 0.1241],\n",
    "       [0.3026, 0.5238, 0.0009, 1.3438],\n",
    "       [0.    , 0.    , 0.    , 0.    ]])"
   ]
  },
  {
   "cell_type": "markdown",
   "id": "imported-ordering",
   "metadata": {},
   "source": [
    "## Indexação Booleana: atribuições"
   ]
  },
  {
   "cell_type": "code",
   "execution_count": null,
   "id": "spread-joining",
   "metadata": {},
   "outputs": [],
   "source": [
    "data[names != 'Joe'] = 7\n",
    "data"
   ]
  },
  {
   "cell_type": "code",
   "execution_count": null,
   "id": "painful-review",
   "metadata": {},
   "outputs": [],
   "source": [
    "array([[7.    , 7.    , 7.    , 7.    ],\n",
    "       [1.0072, 0.    , 0.275 , 0.2289],\n",
    "       [7.    , 7.    , 7.    , 7.    ],\n",
    "       [7.    , 7.    , 7.    , 7.    ],\n",
    "       [7.    , 7.    , 7.    , 7.    ],\n",
    "       [0.3026, 0.5238, 0.0009, 1.3438],\n",
    "       [0.    , 0.    , 0.    , 0.    ]])\n"
   ]
  },
  {
   "cell_type": "markdown",
   "id": "suspected-artist",
   "metadata": {},
   "source": [
    "## Fancy Indexing\n",
    "\n",
    "- Nome que se dá para o uso de arrays de inteiros na indexação:"
   ]
  },
  {
   "cell_type": "code",
   "execution_count": null,
   "id": "confident-continuity",
   "metadata": {},
   "outputs": [],
   "source": [
    "arr = np.empty((8, 4))\n",
    "for i in range(8):\n",
    "    arr[i] = i\n",
    "arr"
   ]
  },
  {
   "cell_type": "code",
   "execution_count": null,
   "id": "following-carbon",
   "metadata": {},
   "outputs": [],
   "source": [
    "array([[0., 0., 0., 0.],\n",
    "       [1., 1., 1., 1.],\n",
    "       [2., 2., 2., 2.],\n",
    "       [3., 3., 3., 3.],\n",
    "       [4., 4., 4., 4.],\n",
    "       [5., 5., 5., 5.],\n",
    "       [6., 6., 6., 6.],\n",
    "       [7., 7., 7., 7.]])"
   ]
  },
  {
   "cell_type": "markdown",
   "id": "cleared-development",
   "metadata": {},
   "source": [
    "## Fancy Indexing"
   ]
  },
  {
   "cell_type": "code",
   "execution_count": null,
   "id": "democratic-recipe",
   "metadata": {},
   "outputs": [],
   "source": [
    "arr[[4, 3, 0, 6]]"
   ]
  },
  {
   "cell_type": "code",
   "execution_count": null,
   "id": "premium-quarterly",
   "metadata": {},
   "outputs": [],
   "source": [
    "array([[4., 4., 4., 4.],\n",
    "       [3., 3., 3., 3.],\n",
    "       [0., 0., 0., 0.],\n",
    "       [6., 6., 6., 6.]])\n"
   ]
  },
  {
   "cell_type": "code",
   "execution_count": null,
   "id": "impressed-classroom",
   "metadata": {},
   "outputs": [],
   "source": [
    "arr[[-3, -5, -7]]"
   ]
  },
  {
   "cell_type": "code",
   "execution_count": null,
   "id": "parliamentary-chess",
   "metadata": {},
   "outputs": [],
   "source": [
    "array([[5., 5., 5., 5.],\n",
    "       [3., 3., 3., 3.],\n",
    "       [1., 1., 1., 1.]])\n"
   ]
  },
  {
   "cell_type": "markdown",
   "id": "suspected-webster",
   "metadata": {},
   "source": [
    "## Funções Universais (Ufuncs)\n",
    "\n",
    "- Funções aplicáveis a arrays super rápidas (implementadas em C):"
   ]
  },
  {
   "cell_type": "code",
   "execution_count": null,
   "id": "collaborative-murder",
   "metadata": {},
   "outputs": [],
   "source": [
    "arr = np.arange(10)\n",
    "arr\n",
    "np.sqrt(arr)\n",
    "np.exp(arr)"
   ]
  },
  {
   "cell_type": "code",
   "execution_count": null,
   "id": "super-possession",
   "metadata": {},
   "outputs": [],
   "source": [
    "x = np.random.randn(8)\n",
    "y = np.random.randn(8)\n",
    "np.maximum(x, y)"
   ]
  },
  {
   "cell_type": "code",
   "execution_count": null,
   "id": "subsequent-nigeria",
   "metadata": {},
   "outputs": [],
   "source": [
    "arr = np.random.randn(7) * 5\n",
    "remainder, whole_part = np.modf(arr)"
   ]
  },
  {
   "cell_type": "markdown",
   "id": "mighty-wildlife",
   "metadata": {},
   "source": [
    "## Exemplo: expressando lógica condicional com operações de array\n",
    "\n",
    "- Considere o seguinte:"
   ]
  },
  {
   "cell_type": "code",
   "execution_count": null,
   "id": "industrial-chapter",
   "metadata": {},
   "outputs": [],
   "source": [
    "xarr = np.array([1.1, 1.2, 1.3, 1.4, 1.5])\n",
    "yarr = np.array([2.1, 2.2, 2.3, 2.4, 2.5])\n",
    "cond = np.array([True, False, True, True, False])"
   ]
  },
  {
   "cell_type": "code",
   "execution_count": null,
   "id": "parental-wednesday",
   "metadata": {},
   "outputs": [],
   "source": [
    "result = [(x if c else y)\n",
    "          for x, y, c in zip(xarr, yarr, cond)]\n",
    "result"
   ]
  },
  {
   "cell_type": "code",
   "execution_count": null,
   "id": "varying-courtesy",
   "metadata": {},
   "outputs": [],
   "source": [
    "[1.1, 2.2, 1.3, 1.4, 2.5]"
   ]
  },
  {
   "cell_type": "markdown",
   "id": "liberal-slovak",
   "metadata": {},
   "source": [
    "## Exemplo: expressando lógica condicional com operações de array\n",
    "\n",
    "- Mesma funcionalidade com NumPy:"
   ]
  },
  {
   "cell_type": "code",
   "execution_count": null,
   "id": "abandoned-brick",
   "metadata": {},
   "outputs": [],
   "source": [
    "result = np.where(cond, xarr, yarr)\n",
    "result"
   ]
  },
  {
   "cell_type": "code",
   "execution_count": null,
   "id": "exceptional-ownership",
   "metadata": {},
   "outputs": [],
   "source": [
    "array([1.1, 2.2, 1.3, 1.4, 2.5])\n"
   ]
  },
  {
   "cell_type": "markdown",
   "id": "opponent-politics",
   "metadata": {},
   "source": [
    "## Exemplo: expressando lógica condicional com operações de array"
   ]
  },
  {
   "cell_type": "code",
   "execution_count": null,
   "id": "dried-science",
   "metadata": {},
   "outputs": [],
   "source": [
    "arr = np.random.randn(4, 4)\n",
    "arr\n",
    "arr > 0\n",
    "np.where(arr > 0, 2, -2)"
   ]
  },
  {
   "cell_type": "code",
   "execution_count": null,
   "id": "visible-freeware",
   "metadata": {},
   "outputs": [],
   "source": [
    "array([[-2, -2, -2, -2],\n",
    "       [ 2,  2, -2,  2],\n",
    "       [ 2,  2,  2, -2],\n",
    "       [ 2, -2,  2,  2]])"
   ]
  },
  {
   "cell_type": "markdown",
   "id": "cathedral-talent",
   "metadata": {},
   "source": [
    "## Outras funcionalidades interessantes"
   ]
  },
  {
   "cell_type": "code",
   "execution_count": null,
   "id": "tight-farmer",
   "metadata": {},
   "outputs": [],
   "source": [
    "arr.mean()\n",
    "np.mean(arr)\n",
    "arr.sum()\n",
    "arr.any()\n",
    "arr.all()\n",
    "arr.sort()\n",
    "np.unique(arr)\n",
    "from numpy.linalg import inv, qr"
   ]
  },
  {
   "cell_type": "markdown",
   "id": "certified-huntington",
   "metadata": {},
   "source": [
    "# Exemplo: passeios aleatórios\n",
    "\n",
    "## Versão Python sem NumPy"
   ]
  },
  {
   "cell_type": "code",
   "execution_count": null,
   "id": "alert-venezuela",
   "metadata": {},
   "outputs": [],
   "source": [
    "import random\n",
    "position = 0\n",
    "walk = [position]\n",
    "steps = 1000\n",
    "for i in range(steps):\n",
    "    step = 1 if random.randint(0, 1) else -1\n",
    "    position += step\n",
    "    walk.append(position)"
   ]
  },
  {
   "cell_type": "markdown",
   "id": "academic-syndication",
   "metadata": {},
   "source": [
    "## Visualizando"
   ]
  },
  {
   "cell_type": "code",
   "execution_count": null,
   "id": "tired-multiple",
   "metadata": {},
   "outputs": [],
   "source": [
    "import matplotlib.pyplot  as plt\n",
    "plt.plot(walk[:100])\n",
    "plt.show()"
   ]
  },
  {
   "cell_type": "markdown",
   "id": "massive-stamp",
   "metadata": {},
   "source": [
    "## Versão Python com NumPy"
   ]
  },
  {
   "cell_type": "code",
   "execution_count": null,
   "id": "alike-summer",
   "metadata": {},
   "outputs": [],
   "source": [
    "nsteps = 1000\n",
    "draws = np.random.randint(0, 2, size=nsteps)\n",
    "steps = np.where(draws > 0, 1, -1)\n",
    "walk = steps.cumsum()"
   ]
  },
  {
   "cell_type": "markdown",
   "id": "finnish-comment",
   "metadata": {},
   "source": [
    "- O que faz o método `cumsum()`?\n",
    "\n",
    "## Extraindo informações"
   ]
  },
  {
   "cell_type": "code",
   "execution_count": null,
   "id": "coupled-native",
   "metadata": {},
   "outputs": [],
   "source": [
    "walk.min()\n",
    "walk.max()"
   ]
  },
  {
   "cell_type": "markdown",
   "id": "artistic-printing",
   "metadata": {},
   "source": [
    "- O que o trecho abaixo faz?"
   ]
  },
  {
   "cell_type": "code",
   "execution_count": null,
   "id": "facial-killer",
   "metadata": {},
   "outputs": [],
   "source": [
    "(np.abs(walk) >= 10).argmax()"
   ]
  },
  {
   "cell_type": "markdown",
   "id": "offensive-riding",
   "metadata": {},
   "source": [
    "## Simulando vários passeios"
   ]
  },
  {
   "cell_type": "code",
   "execution_count": null,
   "id": "satisfactory-longitude",
   "metadata": {},
   "outputs": [],
   "source": [
    "nwalks = 5000\n",
    "nsteps = 1000\n",
    "draws = np.random.randint(0, 2, size=(nwalks, nsteps)) # 0 or 1\n",
    "steps = np.where(draws > 0, 1, -1)\n",
    "walks = steps.cumsum(1)\n",
    "walks"
   ]
  },
  {
   "cell_type": "code",
   "execution_count": null,
   "id": "transparent-skirt",
   "metadata": {},
   "outputs": [],
   "source": [
    "array([[  1,   0,   1, ...,   8,   7,   8],\n",
    "       [  1,   0,  -1, ...,  34,  33,  32],\n",
    "       [  1,   0,  -1, ...,   4,   5,   4],\n",
    "       ...,\n",
    "       [  1,   2,   1, ...,  24,  25,  26],\n",
    "       [  1,   2,   3, ...,  14,  13,  14],\n",
    "       [ -1,  -2,  -3, ..., -24, -23, -22]])"
   ]
  },
  {
   "cell_type": "markdown",
   "id": "interpreted-adjustment",
   "metadata": {},
   "source": [
    "# Exercícios\n",
    "\n",
    "## Exercícios\n",
    "\n",
    "1)) Escreva um programa NumPy que cria um array de duas dimensões com 1's nas bordas e 0's no centro:"
   ]
  },
  {
   "cell_type": "code",
   "execution_count": null,
   "id": "entitled-dairy",
   "metadata": {},
   "outputs": [],
   "source": [
    "[[ 1.  1.  1.  1.  1.]                                                  \n",
    " [ 1.  0.  0.  0.  1.]                                                  \n",
    " [ 1.  0.  0.  0.  1.]                                                  \n",
    " [ 1.  0.  0.  0.  1.]                                                  \n",
    " [ 1.  1.  1.  1.  1.]]"
   ]
  },
  {
   "cell_type": "markdown",
   "id": "running-pavilion",
   "metadata": {},
   "source": [
    "2)) Escreva um programa NumPy que cria uma borda de 0's em volta de um array de duas dimensões (consulte o método `np.pad`):"
   ]
  },
  {
   "cell_type": "code",
   "execution_count": null,
   "id": "turned-astronomy",
   "metadata": {},
   "outputs": [],
   "source": [
    "[[ 0.  0.  0.  0.  0.]                                                  \n",
    " [ 0.  1.  1.  1.  0.]                                                  \n",
    " [ 0.  1.  1.  1.  0.]                                                  \n",
    " [ 0.  1.  1.  1.  0.]                                                  \n",
    " [ 0.  0.  0.  0.  0.]]"
   ]
  },
  {
   "cell_type": "markdown",
   "id": "curious-causing",
   "metadata": {},
   "source": [
    "---\n",
    "     \n",
    "3)) Escreva um programa NumPy que converte uma array com valores de temperaturas em Graus Celcius para Graus Farenheit."
   ]
  },
  {
   "cell_type": "code",
   "execution_count": null,
   "id": "prerequisite-spank",
   "metadata": {},
   "outputs": [],
   "source": [
    "$`C = (5*(F-32))/9`$"
   ]
  },
  {
   "cell_type": "markdown",
   "id": "usual-cradle",
   "metadata": {},
   "source": [
    "4)) Escreva um programa NumPu que cria um array bidimensional de 0's e 1's gerando um padrão de \"tabuleiro de xadrez\". Por exemplo:"
   ]
  },
  {
   "cell_type": "code",
   "execution_count": null,
   "id": "passing-barrel",
   "metadata": {},
   "outputs": [],
   "source": [
    "[[0 1 0 1 0 1 0 1]                                                      \n",
    " [1 0 1 0 1 0 1 0]                                                      \n",
    " [0 1 0 1 0 1 0 1]                                                      \n",
    " [1 0 1 0 1 0 1 0]                                                      \n",
    " [0 1 0 1 0 1 0 1]                                                      \n",
    " [1 0 1 0 1 0 1 0]                                                      \n",
    " [0 1 0 1 0 1 0 1]                                                      \n",
    " [1 0 1 0 1 0 1 0]]"
   ]
  },
  {
   "cell_type": "markdown",
   "id": "developed-geography",
   "metadata": {},
   "source": [
    "# Referências\n",
    "\n",
    "- McKinney, Wes - Python para Análise de Dados: Tratamento de Dados com Pandas, Numpy e IPython, Editora Novatec, 1a Edição, 2019;"
   ]
  }
 ],
 "metadata": {},
 "nbformat": 4,
 "nbformat_minor": 5
}
