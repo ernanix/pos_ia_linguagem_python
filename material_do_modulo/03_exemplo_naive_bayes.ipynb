{
 "cells": [
  {
   "cell_type": "markdown",
   "id": "official-interest",
   "metadata": {},
   "source": [
    "---\n",
    "title: \"Exemplo: Naive Bayes para Filtros de Spam\"\n",
    "subtitle: \"Linguagem de Programação Aplicada<br>Semana 2 / Parte 1\"\n",
    "author: \"Prof. Alex Kutzke\"\n",
    "date: 17 de abril 2021\n",
    "output: \n",
    "  ioslides_presentation:\n",
    "    widescreen: true\n",
    "---\n",
    "\n",
    "# Introdução ao Naive Bayes\n",
    "\n",
    "## Introdução\n",
    "\n",
    "- **Naive Bayes** é o nome que se dá à técnica de classificação baseada, \n",
    "  entre outras coisas, no *Teorema de Bayes*;\n",
    "- Veremos a seguir uma pequena aplicação dessa técnica para a classificação\n",
    "  de emails entre Spam e Não Spam;\n",
    "\n",
    "## Teorema de Bayes\n",
    "\n",
    "- Antes, para relembrar, segue o teorema de Bayes:\n",
    "\n",
    "$`P(E|F) = \\frac{P(F|E)P(E)}{P(F)}`$\n",
    "\n",
    "Ou\n",
    "\n",
    "$`P(E|F) = \\frac{P(F|E)P(E)}{[P(F|E)P(E) + P(F|\\neg E)P(\\neg E)]}`$\n",
    "\n",
    "- Em palavras simples: o teorema nos informa sobre a probabilidade de um evento E condicionado a F sendo que só temos informações iniciais sobre o evento F condicionado a E.\n",
    "\n",
    "- Por exemplo, se sabemos a probabilidade de um email ser SPAM e conter a palavra X, gostaríamos de saber qual a probabilidade de um email ter a palavra X e ser SPAM. \n",
    "\n",
    "# Um Filtro de Spam Muito Simples\n",
    "\n",
    "## Cenário\n",
    "\n",
    "- Considere os seguintes eventos:\n",
    "  - $`S`$: \"a mensagem é spam\";\n",
    "  - $`B`$: \"a mensagem contém a palavra *bitcoin*\";\n",
    "- Segundo o Teorema de Bayes, temos:\n",
    "\n",
    "$`P(S|B) = \\frac{P(B|S)P(S)}{[P(B|S)P(S) + P(B|\\neg S)P(\\neg S)]}`$\n",
    "\n",
    "- Numerador: probabilidade de a mensagem ser spam e conter \"bitcoin\";\n",
    "- Denominador: probabilidade de a mensagem conter \"bitcoin\";\n",
    "\n",
    "## Aplicando o modelo\n",
    "\n",
    "- Se temos uma grande coleção de mensagens classificadas como spam e não-spam:\n",
    "  - Podemos calcular $`P(B|S)`$ e $`P(B|\\neg S)`$.\n",
    "\n",
    "- Se considerarmos que qualquer mensagem é igualmente provável de ser spam ou não-spam:\n",
    "  - Temos que $`P(S) = P(\\neg S) = 0.5`$\n",
    "\n",
    "$`P(S|B) = \\frac{P(B|S)}{[P(B|S) + P(B|\\neg S)]}`$\n",
    "\n",
    "## Exemplo\n",
    "\n",
    "- Por exemplo, se: \n",
    "  - $`50\\%`$ das mensagens spam possuem a palavra \"bitcoin\";\n",
    "  - $`1\\%`$ das mensagens não-spam possuem a palavra \"bitcoin\";\n",
    "\n",
    "$`P(S|B) = \\frac{P(V|B)}{[P(V|B) + P(V|\\neg B)]}`$\n",
    "\n",
    "\n",
    "$`P(S|B) = \\frac{0.5}{(0.5 + 0.01)} = 98\\%`$\n",
    "\n",
    "A probabilidade de qualquer email que contenha \"bitcoin\" seja spam é: $`98\\%`$\n",
    "\n",
    "# Um Filtro de Spam Mais Sofisticado\n",
    "\n",
    "## Ampliando o Contexto\n",
    "\n",
    "- Suponha um vocabulário de palavras $`w_{1},\\ldots, w_{n}`$;\n",
    "- $`X_{i}`$ é o evento \"mensagem contém palavra $`w_{i}`$;\n",
    "- $`P(X_{i}|S)`$ é a probabilidade de uma **mensagem spam** conter a palavra $`w_{i}`$; \n",
    "- $`P(X_{i}|\\neg S)`$ é a probabilidade de uma **mensagem não-spam** conter a palavra $`w_{i}`$; \n",
    "\n",
    "## A Suposição de Naive Bayes\n",
    "\n",
    "- A técnica *Naive Bayes* se baseia em uma suposição um tanto inocente:\n",
    "  - A presenças (ou ausências) de cada palavra são independentes uma das outras;\n",
    "  - Obviamente isso é uma grande simplificação;\n",
    "  - Entretanto, mesmo assim, Naive Bayes apresenta bons resultados.\n",
    "\n",
    "- Isso significa, em outras palavras, por exemplo, que saber que uma mensagem contém ou não \"bitcoin\" não nos informa em nada sobre se ela contém ou não a palavra \"carro\".\n",
    "\n",
    "$`P(X_{1} = x_{1},\\ldots, X_{n} = x_{n}|S) = P(X_{1} = x_{1}|S)\\times \\ldots \\times P(X_{n} = x_{n}|S)`$\n",
    "\n",
    "## Explicando\n",
    "\n",
    "- Se todo nosso vocabulário fosse composto por apenas \"bitcoin\" e \"carro\";\n",
    "- Se metade das **mensagens de spam** contém \"bitcoin\" e a outra metade contém \"carro\";\n",
    "- Assim, a técnica Naive Bayes nos diz que a probabilidade de uma mensagem spam conter ambas as palavras é:\n",
    "\n",
    "$`P(X_{bitcoin} = 1,X_{carro} = 1|S) = P(X_{bitcoin} = 1|S)P(X_{carro} = 1|S) =`$\n",
    "\n",
    "$`= .5 \\times .5 = .25`$\n",
    "\n",
    "## Juntando tudo\n",
    "\n",
    "- Segundo o nosso primeiro filtro, sabemos que podemos utilizar a seguinte equação para calcular a probabilidade de uma mensagem ser spam dado que contém uma palavra X:\n",
    "\n",
    "$`P(S|X = x) = \\frac{P(X = x|S)}{[P(X = x|S) + P(X = x|\\neg S)]}`$\n",
    "\n",
    "- Considerando a suposição de Naive Bayes:\n",
    "  - Podemos calcular as probabilidades da direita multiplicando as probabilidades associadas a cada uma das palavras independentemente;\n",
    "\n",
    "## Detalhes antes da implementação (1)\n",
    "\n",
    "- Multiplicação de muitas probabilidades pode causar *underflow* (números excessivamente pequenos);\n",
    "- Como **todos lembram**:\n",
    "  - $`\\log(ab) = \\log(a) + \\log(b)`$\n",
    "  - $`exp(\\log(x)) = x`$\n",
    "- Assim, podemos substituir a multiplicação $`p_{1} \\times \\ldots \\times p_{n}`$ por:\n",
    "  - $`exp(\\log(p_{1}) + \\ldots + \\log(p_{n}))`$\n",
    "\n",
    "## Detalhes antes da implementação (2)\n",
    "\n",
    "- Ao calcular $`P(X_{i}|S)`$ e $`P(X_{i}|\\neg S)`$:\n",
    "  - Se a palavra \"dado\", por exemplo, ocorre **apenas** em mensagens não-spam, então $`P(dado| S) = 0`$;\n",
    "\n",
    "- Nosso classificador irá atribuir probabilidade 0 de spam para qualquer mensagem que contenha \"dado\" (por quê?);\n",
    "  - Mesmo uma que contenha \"dado que o bitcoin ...\";\n",
    "- Portanto, é necessário suavizar as probabilidades, para fugirmos de valores extremos (1 e 0);\n",
    "- Para isso, utilizaremos um coeficiente $`k`$ e a seguinte equação adaptada:\n",
    "\n",
    "$`P(X_{i}|S) = \\frac{(k + número\\_mensagens\\_contendo\\_w_{i})}{2k + número\\_de\\_spams}`$\n",
    "\n",
    "- O mesmo para $`P(X_{i}|\\neg S)`$\n",
    "\n",
    "# Implementação \n",
    "\n",
    "## Divisão em palavras"
   ]
  },
  {
   "cell_type": "code",
   "execution_count": null,
   "id": "floppy-serbia",
   "metadata": {},
   "outputs": [],
   "source": [
    "from typing import Set\n",
    "import re\n",
    "\n",
    "def tokenize(text: str) -> Set[str]:\n",
    "    text = text.lower()                         # Convert to lowercase,\n",
    "    all_words = re.findall(\"[a-z0-9']+\", text)  # extract the words, and\n",
    "    return set(all_words)                       # remove duplicates.\n",
    "\n",
    "assert tokenize(\"Data Science is science\") == {\"data\", \"science\", \"is\"}"
   ]
  },
  {
   "cell_type": "markdown",
   "id": "intense-capitol",
   "metadata": {},
   "source": [
    "## Tipo para Mensagem"
   ]
  },
  {
   "cell_type": "code",
   "execution_count": null,
   "id": "gorgeous-sunrise",
   "metadata": {},
   "outputs": [],
   "source": [
    "from typing import NamedTuple\n",
    "\n",
    "class Message(NamedTuple):\n",
    "    text: str\n",
    "    is_spam: bool"
   ]
  },
  {
   "cell_type": "markdown",
   "id": "faced-maximum",
   "metadata": {},
   "source": [
    "## Nosso classificador"
   ]
  },
  {
   "cell_type": "code",
   "execution_count": null,
   "id": "soviet-freeware",
   "metadata": {},
   "outputs": [],
   "source": [
    "from typing import List, Tuple, Dict, Iterable\n",
    "import math\n",
    "from collections import defaultdict\n",
    "\n",
    "class NaiveBayesClassifier:\n",
    "    def __init__(self, k: float = 0.5) -> None:\n",
    "        self.k = k  # smoothing factor\n",
    "\n",
    "        self.tokens: Set[str] = set()\n",
    "        self.token_spam_counts: Dict[str, int] = defaultdict(int)\n",
    "        self.token_ham_counts: Dict[str, int] = defaultdict(int)\n",
    "        self.spam_messages = self.ham_messages = 0"
   ]
  },
  {
   "cell_type": "markdown",
   "id": "lesbian-masters",
   "metadata": {},
   "source": [
    "## Treinando o modelo"
   ]
  },
  {
   "cell_type": "code",
   "execution_count": null,
   "id": "greenhouse-electronics",
   "metadata": {},
   "outputs": [],
   "source": [
    "# Dentro da classe NaiveBayesClassifier\n",
    "\n",
    "    def train(self, messages: Iterable[Message]) -> None:\n",
    "        for message in messages:\n",
    "            # Increment message counts\n",
    "            if message.is_spam:\n",
    "                self.spam_messages += 1\n",
    "            else:\n",
    "                self.ham_messages += 1\n",
    "\n",
    "            # Increment word counts\n",
    "            for token in tokenize(message.text):\n",
    "                self.tokens.add(token)\n",
    "                if message.is_spam:\n",
    "                    self.token_spam_counts[token] += 1\n",
    "                else:\n",
    "                    self.token_ham_counts[token] += 1\n"
   ]
  },
  {
   "cell_type": "markdown",
   "id": "attempted-chrome",
   "metadata": {},
   "source": [
    "## Cálculo das Probabilidades"
   ]
  },
  {
   "cell_type": "code",
   "execution_count": null,
   "id": "thorough-editing",
   "metadata": {},
   "outputs": [],
   "source": [
    "# Dentro da classe NaiveBayesClassifier\n",
    "\n",
    "    def probabilities(self, token: str) -> Tuple[float, float]:\n",
    "        \"\"\"returns P(token | spam) and P(token | ham)\"\"\"\n",
    "        spam = self.token_spam_counts[token]\n",
    "        ham = self.token_ham_counts[token]\n",
    "\n",
    "        p_token_spam = (spam + self.k) / (self.spam_messages + 2 * self.k)\n",
    "        p_token_ham = (ham + self.k) / (self.ham_messages + 2 * self.k)\n",
    "\n",
    "        return p_token_spam, p_token_ham"
   ]
  },
  {
   "cell_type": "markdown",
   "id": "amber-share",
   "metadata": {},
   "source": [
    "## Calculo das probabilidades de uma mensagem {.smaller}"
   ]
  },
  {
   "cell_type": "code",
   "execution_count": null,
   "id": "practical-tanzania",
   "metadata": {},
   "outputs": [],
   "source": [
    "# Dentro da classe NaiveBayesClassifier\n",
    "    def predict(self, text: str) -> float:\n",
    "        text_tokens = tokenize(text)\n",
    "        log_prob_if_spam = log_prob_if_ham = 0.0\n",
    "\n",
    "        # Iterate through each word in our vocabulary\n",
    "        for token in self.tokens:\n",
    "            prob_if_spam, prob_if_ham = self._probabilities(token)\n",
    "\n",
    "            # If *token* appears in the message,\n",
    "            # add the log probability of seeing it\n",
    "            if token in text_tokens:\n",
    "                log_prob_if_spam += math.log(prob_if_spam)\n",
    "                log_prob_if_ham += math.log(prob_if_ham)\n",
    "\n",
    "            # Otherwise add the log probability of _not_ seeing it,\n",
    "            # which is log(1 - probability of seeing it)\n",
    "            else:\n",
    "                log_prob_if_spam += math.log(1.0 - prob_if_spam)\n",
    "                log_prob_if_ham += math.log(1.0 - prob_if_ham)\n",
    "\n",
    "        prob_if_spam = math.exp(log_prob_if_spam)\n",
    "        prob_if_ham = math.exp(log_prob_if_ham)\n",
    "        return prob_if_spam / (prob_if_spam + prob_if_ham)"
   ]
  },
  {
   "cell_type": "markdown",
   "id": "ignored-harvard",
   "metadata": {},
   "source": [
    "## Testando o modelo"
   ]
  },
  {
   "cell_type": "code",
   "execution_count": null,
   "id": "photographic-origin",
   "metadata": {},
   "outputs": [],
   "source": [
    "messages = [Message(\"spam rules\", is_spam=True),\n",
    "            Message(\"ham rules\", is_spam=False),\n",
    "            Message(\"hello ham\", is_spam=False)]\n",
    "\n",
    "model = NaiveBayesClassifier(k=0.5)\n",
    "model.train(messages)\n",
    "\n",
    "# Verificar contagens\n",
    "assert model.tokens == {\"spam\", \"ham\", \"rules\", \"hello\"}\n",
    "assert model.spam_messages == 1\n",
    "assert model.ham_messages == 2\n",
    "assert model.token_spam_counts == {\"spam\": 1, \"rules\": 1}\n",
    "assert model.token_ham_counts == {\"ham\": 2, \"rules\": 1, \"hello\": 1}"
   ]
  },
  {
   "cell_type": "markdown",
   "id": "awful-therapy",
   "metadata": {},
   "source": [
    "## Testando o modelo - parte matemática"
   ]
  },
  {
   "cell_type": "code",
   "execution_count": null,
   "id": "preliminary-airline",
   "metadata": {},
   "outputs": [],
   "source": [
    "text = \"hello spam\"\n",
    "\n",
    "probs_if_spam = [\n",
    "    (1 + 0.5) / (1 + 2 * 0.5),      # \"spam\"  (present)\n",
    "    1 - (0 + 0.5) / (1 + 2 * 0.5),  # \"ham\"   (not present)\n",
    "    1 - (1 + 0.5) / (1 + 2 * 0.5),  # \"rules\" (not present)\n",
    "    (0 + 0.5) / (1 + 2 * 0.5)       # \"hello\" (present)\n",
    "]\n",
    "\n",
    "probs_if_ham = [\n",
    "    (0 + 0.5) / (2 + 2 * 0.5),      # \"spam\"  (present)\n",
    "    1 - (2 + 0.5) / (2 + 2 * 0.5),  # \"ham\"   (not present)\n",
    "    1 - (1 + 0.5) / (2 + 2 * 0.5),  # \"rules\" (not present)\n",
    "    (1 + 0.5) / (2 + 2 * 0.5),      # \"hello\" (present)\n",
    "]\n",
    "\n",
    "p_if_spam = math.exp(sum(math.log(p) for p in probs_if_spam))\n",
    "p_if_ham = math.exp(sum(math.log(p) for p in probs_if_ham))\n",
    "\n",
    "# Should be about 0.83\n",
    "assert model.predict(text) == p_if_spam / (p_if_spam + p_if_ham)"
   ]
  },
  {
   "cell_type": "markdown",
   "id": "catholic-patio",
   "metadata": {},
   "source": [
    "## Lendo mensagens reais {.smaller}\n",
    "\n",
    "- Dados de https://spamassassin.apache.org/old/publiccorpus"
   ]
  },
  {
   "cell_type": "code",
   "execution_count": null,
   "id": "quiet-secondary",
   "metadata": {},
   "outputs": [],
   "source": [
    "import glob, re\n",
    "\n",
    "# modify the path to wherever you've put the files\n",
    "path = 'spam_data/*/*'\n",
    "\n",
    "data: List[Message] = []\n",
    "\n",
    "# glob.glob returns every filename that matches the wildcarded path\n",
    "for filename in glob.glob(path):\n",
    "    is_spam = \"ham\" not in filename\n",
    "\n",
    "    # There are some garbage characters in the emails; the errors='ignore'\n",
    "    # skips them instead of raising an exception.\n",
    "    with open(filename, errors='ignore') as email_file:\n",
    "        for line in email_file:\n",
    "            if line.startswith(\"Subject:\"):\n",
    "                subject = line.lstrip(\"Subject: \")\n",
    "                data.append(Message(subject, is_spam))\n",
    "                break  # done with this file"
   ]
  },
  {
   "cell_type": "markdown",
   "id": "mineral-memorial",
   "metadata": {},
   "source": [
    "## Treino X Teste"
   ]
  },
  {
   "cell_type": "code",
   "execution_count": null,
   "id": "direct-browse",
   "metadata": {},
   "outputs": [],
   "source": [
    "import random\n",
    "from scratch.machine_learning import split_data\n",
    "\n",
    "random.seed(0)      # just so you get the same answers as me\n",
    "train_messages, test_messages = split_data(data, 0.75)\n",
    "\n",
    "model = NaiveBayesClassifier()\n",
    "model.train(train_messages)"
   ]
  },
  {
   "cell_type": "markdown",
   "id": "acquired-neutral",
   "metadata": {},
   "source": [
    "## Testando"
   ]
  },
  {
   "cell_type": "code",
   "execution_count": null,
   "id": "equal-mother",
   "metadata": {},
   "outputs": [],
   "source": [
    "from collections import Counter\n",
    "\n",
    "predictions = [(message, model.predict(message.text))\n",
    "               for message in test_messages]\n",
    "\n",
    "# Assume that spam_probability > 0.5 corresponds to spam prediction\n",
    "# and count the combinations of (actual is_spam, predicted is_spam)\n",
    "confusion_matrix = Counter((message.is_spam, spam_probability > 0.5)\n",
    "                           for message, spam_probability in predictions)\n",
    "\n",
    "print(confusion_matrix)"
   ]
  },
  {
   "cell_type": "markdown",
   "id": "limited-adapter",
   "metadata": {},
   "source": [
    "## Investigando efeito das palavras"
   ]
  },
  {
   "cell_type": "code",
   "execution_count": null,
   "id": "eleven-halifax",
   "metadata": {},
   "outputs": [],
   "source": [
    "def p_spam_given_token(token: str, model: NaiveBayesClassifier) -> float:\n",
    "    prob_if_spam, prob_if_ham = model.probabilities(token)\n",
    "\n",
    "    return prob_if_spam / (prob_if_spam + prob_if_ham)\n",
    "\n",
    "words = sorted(model.tokens, key=lambda t: p_spam_given_token(t, model))\n",
    "\n",
    "print(\"spammiest_words\", words[-10:])\n",
    "print(\"hammiest_words\", words[:10])"
   ]
  },
  {
   "cell_type": "markdown",
   "id": "acoustic-funds",
   "metadata": {},
   "source": [
    "## Possibilidades para melhorar o modelo\n",
    "\n",
    "- Analisar o conteúdo da mensagem e não apenas o Assunto;\n",
    "- Considerar apenas palavras que aparecem um número mínimo de vezes \n",
    "  (`min_count`);\n",
    "- Utilizar apenas radicais das palavras (pesquise por \"Porter Stemmer\");\n",
    "- Considerar não apenas presença de palavras, mas outras características:\n",
    "  - Por exemplo, se a mensagem possuí números:\n",
    "    - A função `tokenizer` pode retornar *tokens* especiais para isso (por exemplo: \n",
    "      `contains:number`).\n",
    "\n",
    "# Referências\n",
    "\n",
    "- GRUS, Joel - Data Science do Zero: Primeiras Regras com Python, Editora Alta Books, 1a Edição, 2016;"
   ]
  }
 ],
 "metadata": {},
 "nbformat": 4,
 "nbformat_minor": 5
}
