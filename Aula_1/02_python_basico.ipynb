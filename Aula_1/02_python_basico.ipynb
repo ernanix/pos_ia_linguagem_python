{
 "cells": [
  {
   "cell_type": "markdown",
   "id": "adequate-report",
   "metadata": {},
   "source": [
    "---\n",
    "title: \"Curso Relâmpago de Python\"\n",
    "subtitle: \"Linguagem de Programação Aplicada<br>Semana 1 / Partes 2 e 3\"\n",
    "author: \"Prof. Alex Kutzke\"\n",
    "date: 10 de maio 2021\n",
    "output: \n",
    "  ioslides_presentation:\n",
    "    smaller: false\n",
    "    widescreen: true\n",
    "---\n",
    "\n",
    "# O Básico\n",
    "\n",
    "## Python Zen\n",
    "\n",
    "- Princípios de design;\n",
    "- Em seu **ipython**, digite `import this`;\n",
    "\n",
    "<div class=\"center\">\n",
    "Deveria haver um -- de preferência apenas um -- modo óbvio de fazê-lo.\n",
    "</div>\n",
    "\n",
    "- Código óbvio para um iniciante $\\Rightarrow$ Código *Pythonic*;\n",
    "\n",
    "## Formatação de Espaço em Branco\n",
    "\n",
    "- Sem chaves ou begin's e end's;\n",
    "- Python usa indentação:"
   ]
  },
  {
   "cell_type": "code",
   "execution_count": 1,
   "id": "processed-kitty",
   "metadata": {},
   "outputs": [
    {
     "name": "stdout",
     "output_type": "stream",
     "text": [
      "1\n",
      "1\n",
      "2\n",
      "2\n",
      "3\n",
      "3\n",
      "4\n",
      "4\n",
      "5\n",
      "5\n",
      "6\n",
      "1\n",
      "2\n",
      "1\n",
      "3\n",
      "2\n",
      "4\n",
      "3\n",
      "5\n",
      "4\n",
      "6\n",
      "5\n",
      "7\n",
      "2\n",
      "3\n",
      "1\n",
      "4\n",
      "2\n",
      "5\n",
      "3\n",
      "6\n",
      "4\n",
      "7\n",
      "5\n",
      "8\n",
      "3\n",
      "4\n",
      "1\n",
      "5\n",
      "2\n",
      "6\n",
      "3\n",
      "7\n",
      "4\n",
      "8\n",
      "5\n",
      "9\n",
      "4\n",
      "5\n",
      "1\n",
      "6\n",
      "2\n",
      "7\n",
      "3\n",
      "8\n",
      "4\n",
      "9\n",
      "5\n",
      "10\n",
      "5\n",
      "done looping\n"
     ]
    }
   ],
   "source": [
    "for i in [1, 2, 3, 4, 5]:\n",
    "  print(i)                   # first line in \"for i\" block\n",
    "  for j in [1, 2, 3, 4, 5]:\n",
    "    print(j)                 # first line in \"for j\" block\n",
    "    print(i + j)             # last line in \"for j\" block\n",
    "  print (i)                   # last line in \"for i\" block\n",
    "print(\"done looping\")"
   ]
  },
  {
   "cell_type": "markdown",
   "id": "vanilla-value",
   "metadata": {},
   "source": [
    "## Formatação de Espaço em Branco\n",
    "\n",
    "- Código legível, porém ...\n",
    "- É necessário ter muito cuidado com a formatação\n",
    "- Espaço em branco é ignorado dentro de parênteses e colchetes (útil para linhas longas):"
   ]
  },
  {
   "cell_type": "code",
   "execution_count": null,
   "id": "professional-rochester",
   "metadata": {},
   "outputs": [],
   "source": [
    "long_winded_computation = (1 + 2 + 3 + 4 + 5 + 6 + 7 + 8 + 9 + 10 + 11 + 12 +\n",
    "                           13 + 14 + 15 + 16 + 17 + 18 + 19 + 20)\n",
    "\n",
    "# and for making code easier to read:\n",
    "\n",
    "list_of_lists = [[1, 2, 3], [4, 5, 6], [7, 8, 9]]\n",
    "\n",
    "easier_to_read_list_of_lists = [ [1, 2, 3],\n",
    "                                 [4, 5, 6],\n",
    "                                 [7, 8, 9] ]"
   ]
  },
  {
   "cell_type": "markdown",
   "id": "aboriginal-advertising",
   "metadata": {},
   "source": [
    "## Formatação de Espaço em Branco\n",
    "\n",
    "- É possível, embora seja raro, utilizarmos `\\` para indicar continuidade em uma nova linha:"
   ]
  },
  {
   "cell_type": "code",
   "execution_count": null,
   "id": "tamil-leone",
   "metadata": {},
   "outputs": [],
   "source": [
    "two_plus_three = 2 + \\\n",
    "                 3"
   ]
  },
  {
   "cell_type": "code",
   "execution_count": null,
   "id": "national-cloud",
   "metadata": {},
   "outputs": [],
   "source": [
    "for i in [1, 2, 3, 4, 5]:\n",
    "\n",
    "    # notice the blank line\n",
    "    print(i)"
   ]
  },
  {
   "cell_type": "markdown",
   "id": "harmful-capital",
   "metadata": {},
   "source": [
    "- Colar código no Python Shell pode se tornar perigoso.\n",
    "  - IPython pode resolver isso.\n",
    "\n",
    "## Módulos\n",
    "\n",
    "- Para utilizar recursos não carregados por padrão no Python, utilize módulo:"
   ]
  },
  {
   "cell_type": "code",
   "execution_count": null,
   "id": "voluntary-activation",
   "metadata": {},
   "outputs": [],
   "source": [
    "import re\n",
    "my_regex = re.compile(\"[0-9]+\", re.I)"
   ]
  },
  {
   "cell_type": "code",
   "execution_count": 5,
   "id": "suspended-record",
   "metadata": {},
   "outputs": [],
   "source": [
    "import re as regex\n",
    "my_regex = regex.compile(\"[0-9]+\", regex.I)"
   ]
  },
  {
   "cell_type": "code",
   "execution_count": 3,
   "id": "occupied-sierra",
   "metadata": {},
   "outputs": [],
   "source": [
    "import matplotlib.pyplot as plt"
   ]
  },
  {
   "cell_type": "code",
   "execution_count": 4,
   "id": "liable-contents",
   "metadata": {},
   "outputs": [],
   "source": [
    "from collections import defaultdict, Counter\n",
    "lookup = defaultdict(int)\n",
    "my_counter = Counter()"
   ]
  },
  {
   "cell_type": "markdown",
   "id": "utility-pharmacy",
   "metadata": {},
   "source": [
    "## Módulos {.build}\n",
    "\n",
    "- Se você for um programado malvado, você pode importar um módulo inteiro no seu *espaço de nomes*:"
   ]
  },
  {
   "cell_type": "code",
   "execution_count": null,
   "id": "quiet-intranet",
   "metadata": {},
   "outputs": [],
   "source": [
    "from re import *"
   ]
  },
  {
   "cell_type": "markdown",
   "id": "personalized-insert",
   "metadata": {},
   "source": [
    "- Porém ..."
   ]
  },
  {
   "cell_type": "code",
   "execution_count": 6,
   "id": "stuffed-estonia",
   "metadata": {},
   "outputs": [
    {
     "name": "stdout",
     "output_type": "stream",
     "text": [
      "<function match at 0x000001AD81F939D0>\n"
     ]
    }
   ],
   "source": [
    "match = 10\n",
    "from re import *      # uh oh, re has a match function\n",
    "print(match)          # \"<function re.match>\""
   ]
  },
  {
   "cell_type": "markdown",
   "id": "textile-honey",
   "metadata": {},
   "source": [
    "## Módulos (mais exemplos) {.smaller}"
   ]
  },
  {
   "cell_type": "code",
   "execution_count": null,
   "id": "practical-manchester",
   "metadata": {},
   "outputs": [],
   "source": [
    "# some_module.py\n",
    "PI = 3.14159\n",
    "\n",
    "def f(x):\n",
    "    return x + 2\n",
    "\n",
    "def g(a, b):\n",
    "    return a + b"
   ]
  },
  {
   "cell_type": "code",
   "execution_count": null,
   "id": "spread-translation",
   "metadata": {},
   "outputs": [],
   "source": [
    "import some_module\n",
    "result = some_module.f(5)\n",
    "pi = some_module.PI\n",
    "\n",
    "from some_module import f, g, PI\n",
    "result = g(5, PI)\n",
    "\n",
    "import some_module as sm\n",
    "from some_module import PI as pi, g as gf\n",
    "\n",
    "r1 = sm.f(pi)\n",
    "r2 = gf(6, pi)"
   ]
  },
  {
   "cell_type": "markdown",
   "id": "necessary-cologne",
   "metadata": {},
   "source": [
    "## Operadores binários e comparações"
   ]
  },
  {
   "cell_type": "code",
   "execution_count": 7,
   "id": "crazy-october",
   "metadata": {},
   "outputs": [
    {
     "data": {
      "text/plain": [
       "False"
      ]
     },
     "execution_count": 7,
     "metadata": {},
     "output_type": "execute_result"
    }
   ],
   "source": [
    "5 - 7\n",
    "12 + 21.5\n",
    "5 <= 2"
   ]
  },
  {
   "cell_type": "code",
   "execution_count": 8,
   "id": "caroline-representation",
   "metadata": {},
   "outputs": [
    {
     "data": {
      "text/plain": [
       "True"
      ]
     },
     "execution_count": 8,
     "metadata": {},
     "output_type": "execute_result"
    }
   ],
   "source": [
    "a = [1, 2, 3]\n",
    "b = a\n",
    "c = list(a)\n",
    "a is b     # ??\n",
    "a is not c # ??"
   ]
  },
  {
   "cell_type": "code",
   "execution_count": 9,
   "id": "prospective-immigration",
   "metadata": {},
   "outputs": [
    {
     "data": {
      "text/plain": [
       "True"
      ]
     },
     "execution_count": 9,
     "metadata": {},
     "output_type": "execute_result"
    }
   ],
   "source": [
    "a == c     # ??"
   ]
  },
  {
   "cell_type": "code",
   "execution_count": 10,
   "id": "nominated-industry",
   "metadata": {},
   "outputs": [
    {
     "data": {
      "text/plain": [
       "True"
      ]
     },
     "execution_count": 10,
     "metadata": {},
     "output_type": "execute_result"
    }
   ],
   "source": [
    "a = None\n",
    "a is None"
   ]
  },
  {
   "cell_type": "markdown",
   "id": "funny-martial",
   "metadata": {},
   "source": [
    "## Funções\n",
    "\n",
    "- Regras que recebem zero ou mais parâmetros para gerar uma saída:"
   ]
  },
  {
   "cell_type": "code",
   "execution_count": 12,
   "id": "elder-mouse",
   "metadata": {},
   "outputs": [],
   "source": [
    "def double(x):\n",
    "  \"\"\"this is where you put an optional docstring\n",
    "  that explains what the function does.\n",
    "  for example, this function multiplies its input by 2\"\"\"\n",
    "  return x * 2"
   ]
  },
  {
   "cell_type": "markdown",
   "id": "signed-gibraltar",
   "metadata": {},
   "source": [
    "## Funções de primeira classe\n",
    "\n",
    "- No Python, as funções são de **primeira classe**:\n",
    "  - Podem ser atribuídas a variáveis ou passadas como parâmetros para outras funções:"
   ]
  },
  {
   "cell_type": "code",
   "execution_count": 15,
   "id": "sufficient-indian",
   "metadata": {},
   "outputs": [
    {
     "data": {
      "text/plain": [
       "2"
      ]
     },
     "execution_count": 15,
     "metadata": {},
     "output_type": "execute_result"
    }
   ],
   "source": [
    "def apply_to_one(f):\n",
    "  \"\"\"calls the function f with 1 as its argument\"\"\"\n",
    "  return f(1)\n",
    "\n",
    "my_double = double # refers to the previously defined function\n",
    "x = apply_to_one(my_double) # equals 2\n",
    "x"
   ]
  },
  {
   "cell_type": "markdown",
   "id": "exclusive-union",
   "metadata": {},
   "source": [
    "## Lambdas\n",
    "\n",
    "- É fácil criar pequenas funções anônimas (\"*lambdas*\"):"
   ]
  },
  {
   "cell_type": "code",
   "execution_count": null,
   "id": "tamil-ecology",
   "metadata": {},
   "outputs": [],
   "source": [
    "y = apply_to_one(lambda x: x + 4) # equals 5"
   ]
  },
  {
   "cell_type": "markdown",
   "id": "greater-framework",
   "metadata": {},
   "source": [
    "- Você pode atribuir lambdas a variáveis, embora isso o torne um programador malvado:"
   ]
  },
  {
   "cell_type": "code",
   "execution_count": null,
   "id": "intense-earth",
   "metadata": {},
   "outputs": [],
   "source": [
    "another_double = lambda x: 2 * x      # don't do this\n",
    "def another_double(x): return 2 * x   # do this instead"
   ]
  },
  {
   "cell_type": "markdown",
   "id": "cheap-machinery",
   "metadata": {},
   "source": [
    "## Parâmetros *Default*\n",
    "\n",
    "- Funções podem receber valores default para zero ou mais argumentos:"
   ]
  },
  {
   "cell_type": "code",
   "execution_count": null,
   "id": "intermediate-tract",
   "metadata": {},
   "outputs": [],
   "source": [
    "def my_print(message=\"my default message\"):\n",
    "  print(message)\n",
    "\n",
    "my_print(\"hello\") # prints 'hello'\n",
    "my_print()        # prints 'my default message'"
   ]
  },
  {
   "cell_type": "markdown",
   "id": "pregnant-thousand",
   "metadata": {},
   "source": [
    "- Ás vezes, especificar argumentos por nome é mais fácil:"
   ]
  },
  {
   "cell_type": "code",
   "execution_count": 16,
   "id": "under-extreme",
   "metadata": {},
   "outputs": [
    {
     "data": {
      "text/plain": [
       "-5"
      ]
     },
     "execution_count": 16,
     "metadata": {},
     "output_type": "execute_result"
    }
   ],
   "source": [
    "def subtract(a=0, b=0):\n",
    "  return a - b\n",
    "\n",
    "subtract(10, 5)  # returns 5\n",
    "subtract(0, 5)   # returns -5\n",
    "subtract(b=5)    # same as previous"
   ]
  },
  {
   "cell_type": "markdown",
   "id": "conceptual-crossing",
   "metadata": {},
   "source": [
    "## Strings"
   ]
  },
  {
   "cell_type": "code",
   "execution_count": 17,
   "id": "enhanced-argument",
   "metadata": {},
   "outputs": [],
   "source": [
    "single_quoted_string = 'data science'\n",
    "double_quoted_string = \"data science\"\n",
    "\n",
    "# Python uses backslashes to encode special characters. For example:\n",
    "tab_string = \"\\t\"  # represents the tab character\n",
    "len(tab_string)    # is 1\n",
    "\n",
    "# If you want backslashes as backslashes (which you might in Windows directory\n",
    "# names or in regular expressions), you can create raw strings using r\"\":\n",
    "not_tab_string = r\"\\t\"  # represents the characters '\\' and 't'\n",
    "len(not_tab_string)     # is 2\n",
    "\n",
    "#You can create multiline strings using triple-[double-]-quotes:\n",
    "multi_line_string = \"\"\"This is the first line.\n",
    "and this is the second line\n",
    "and this is the third line\"\"\""
   ]
  },
  {
   "cell_type": "markdown",
   "id": "patient-imperial",
   "metadata": {},
   "source": [
    "## F-string\n",
    "\n",
    "- \"Novo\" recurso do python 3.6;\n",
    "- Como adicionar ou substituir valores em uma string:"
   ]
  },
  {
   "cell_type": "code",
   "execution_count": 19,
   "id": "macro-planet",
   "metadata": {},
   "outputs": [
    {
     "ename": "NameError",
     "evalue": "name 'first_name' is not defined",
     "output_type": "error",
     "traceback": [
      "\u001b[1;31m---------------------------------------------------------------------------\u001b[0m",
      "\u001b[1;31mNameError\u001b[0m                                 Traceback (most recent call last)",
      "\u001b[1;32m~\\AppData\\Local\\Temp/ipykernel_15268/1114391080.py\u001b[0m in \u001b[0;36m<module>\u001b[1;34m\u001b[0m\n\u001b[1;32m----> 1\u001b[1;33m \u001b[0mfull_name1\u001b[0m \u001b[1;33m=\u001b[0m \u001b[0mfirst_name\u001b[0m \u001b[1;33m+\u001b[0m \u001b[1;34m\" \"\u001b[0m \u001b[1;33m+\u001b[0m \u001b[0mlast_name\u001b[0m             \u001b[1;31m# string addition\u001b[0m\u001b[1;33m\u001b[0m\u001b[1;33m\u001b[0m\u001b[0m\n\u001b[0m\u001b[0;32m      2\u001b[0m \u001b[0mfull_name2\u001b[0m \u001b[1;33m=\u001b[0m \u001b[1;34m\"{0} {1}\"\u001b[0m\u001b[1;33m.\u001b[0m\u001b[0mformat\u001b[0m\u001b[1;33m(\u001b[0m\u001b[0mfirst_name\u001b[0m\u001b[1;33m,\u001b[0m \u001b[0mlast_name\u001b[0m\u001b[1;33m)\u001b[0m  \u001b[1;31m# string.format\u001b[0m\u001b[1;33m\u001b[0m\u001b[1;33m\u001b[0m\u001b[0m\n",
      "\u001b[1;31mNameError\u001b[0m: name 'first_name' is not defined"
     ]
    }
   ],
   "source": [
    "full_name1 = first_name + \" \" + last_name             # string addition\n",
    "full_name2 = \"{0} {1}\".format(first_name, last_name)  # string.format"
   ]
  },
  {
   "cell_type": "markdown",
   "id": "smaller-damage",
   "metadata": {},
   "source": [
    "- Com `f-string`:"
   ]
  },
  {
   "cell_type": "code",
   "execution_count": 21,
   "id": "laden-canberra",
   "metadata": {},
   "outputs": [
    {
     "name": "stdout",
     "output_type": "stream",
     "text": [
      "A B\n"
     ]
    }
   ],
   "source": [
    "first_name = \"A\"\n",
    "last_name = \"B\"\n",
    "full_name3 = f\"{first_name} {last_name}\"\n",
    "print(full_name3)"
   ]
  },
  {
   "cell_type": "markdown",
   "id": "color-economics",
   "metadata": {},
   "source": [
    "## Exceções\n",
    "\n",
    "- Se algo der errado, uma **exceção** será provocada:"
   ]
  },
  {
   "cell_type": "code",
   "execution_count": 22,
   "id": "whole-journal",
   "metadata": {},
   "outputs": [
    {
     "name": "stdout",
     "output_type": "stream",
     "text": [
      "cannot divide by zero\n"
     ]
    }
   ],
   "source": [
    "try:\n",
    "  print(0 / 0)\n",
    "except ZeroDivisionError:\n",
    "  print(\"cannot divide by zero\")"
   ]
  },
  {
   "cell_type": "markdown",
   "id": "applied-profession",
   "metadata": {},
   "source": [
    "## Listas\n",
    "\n",
    "- Certamente, uma das estruturas de dados fundamentais do Python mais utilizadas;\n",
    "- Uma coleção ordenada de itens:"
   ]
  },
  {
   "cell_type": "code",
   "execution_count": 23,
   "id": "synthetic-creator",
   "metadata": {},
   "outputs": [
    {
     "name": "stdout",
     "output_type": "stream",
     "text": [
      "[[1, 2, 3], ['string', 0.1, True], []]\n"
     ]
    }
   ],
   "source": [
    "integer_list = [1, 2, 3]\n",
    "heterogeneous_list = [\"string\", 0.1, True]\n",
    "list_of_lists = [ integer_list, heterogeneous_list, [] ]\n",
    "\n",
    "list_length = len(integer_list)   # equals 3\n",
    "list_sum = sum(integer_list)      # equals 6\n",
    "print(list_of_lists)"
   ]
  },
  {
   "cell_type": "markdown",
   "id": "composed-framing",
   "metadata": {},
   "source": [
    "## Listas\n",
    "\n",
    "- Acessando elementos por índice:"
   ]
  },
  {
   "cell_type": "code",
   "execution_count": 28,
   "id": "crucial-ending",
   "metadata": {},
   "outputs": [
    {
     "name": "stdout",
     "output_type": "stream",
     "text": [
      "9\n"
     ]
    }
   ],
   "source": [
    "x = [0, 1, 2, 3, 4, 5, 6, 7, 8, 9]\n",
    "zero = x[0]     # equals 0, lists are 0-indexed\n",
    "one = x[1]      # equals 1\n",
    "nine = x[-1]    # equals 9, 'Pythonic' for last element\n",
    "eight = x[-2]   # equals 8, 'Pythonic' for next-to-last element\n",
    "\n",
    "x[0] = -1       # ??\n",
    "print(x[-1])"
   ]
  },
  {
   "cell_type": "markdown",
   "id": "restricted-former",
   "metadata": {},
   "source": [
    "## Listas\n",
    "\n",
    "<div class=\"centered\">\n",
    "![índices de listas](img/python-string-slice.png)\n",
    "</div>\n",
    "\n",
    "## Listas\n",
    "\n",
    "- Utilize `:` no índice para \"fatiar\" a lista:"
   ]
  },
  {
   "cell_type": "code",
   "execution_count": null,
   "id": "stuck-oasis",
   "metadata": {},
   "outputs": [],
   "source": [
    "first_three = x[:3]                # [-1, 1, 2]\n",
    "three_to_end = x[3:]               # [3, 4, ..., 9]\n",
    "one_to_four = x[1:5]               # [1, 2, 3, 4] #da posicao 1 até 5-1\n",
    "last_three = x[-3:]                # [7, 8, 9]\n",
    "without_first_and_last = x[1:-1]   # [1, 2, ..., 8]\n",
    "copy_of_x = x[:]                   # [-1, 1, 2, ..., 9]"
   ]
  },
  {
   "cell_type": "markdown",
   "id": "dense-click",
   "metadata": {},
   "source": [
    "## Listas\n",
    "\n",
    "- Ou ainda com `::` indicando o passo:"
   ]
  },
  {
   "cell_type": "code",
   "execution_count": null,
   "id": "accomplished-thompson",
   "metadata": {},
   "outputs": [],
   "source": [
    "every_third = x[::3]                 # [-1, 3, 6, 9]\n",
    "five_to_three = x[5:2:-1]            # [5, 4, 3]"
   ]
  },
  {
   "cell_type": "markdown",
   "id": "recognized-spread",
   "metadata": {},
   "source": [
    "## Listas\n",
    "\n",
    "- Para verificar o pertencimento de elementos a uma lista, podemos utilizar o operador `in`:"
   ]
  },
  {
   "cell_type": "code",
   "execution_count": null,
   "id": "informational-gregory",
   "metadata": {},
   "outputs": [],
   "source": [
    "1 in [1, 2, 3]    # True \n",
    "0 in [1, 2, 3]    # False"
   ]
  },
  {
   "cell_type": "markdown",
   "id": "optional-consistency",
   "metadata": {},
   "source": [
    "- Embora, para listas grandes, esse operador seja lento.\n",
    "\n",
    "## Listas\n",
    "\n",
    "- É fácil concatenar listas:"
   ]
  },
  {
   "cell_type": "code",
   "execution_count": null,
   "id": "racial-internship",
   "metadata": {},
   "outputs": [],
   "source": [
    "x = [1, 2, 3]\n",
    "x.extend([4, 5, 6]) # x is now [1,2,3,4,5,6]"
   ]
  },
  {
   "cell_type": "markdown",
   "id": "emotional-acquisition",
   "metadata": {},
   "source": [
    "- Se você não quiser modificar `x`, pode utilizar **adição** de listas:"
   ]
  },
  {
   "cell_type": "code",
   "execution_count": null,
   "id": "finite-crest",
   "metadata": {},
   "outputs": [],
   "source": [
    "x = [1, 2, 3]\n",
    "y = x + [4, 5, 6] # y is [1, 2, 3, 4, 5, 6]; x is unchanged"
   ]
  },
  {
   "cell_type": "markdown",
   "id": "labeled-booth",
   "metadata": {},
   "source": [
    "## Listas\n",
    "\n",
    "- Frequentemente iremos anexar itens ao final da lista:"
   ]
  },
  {
   "cell_type": "code",
   "execution_count": null,
   "id": "acting-withdrawal",
   "metadata": {},
   "outputs": [],
   "source": [
    "x = [1, 2, 3]\n",
    "x.append(0)  # x is now [1, 2, 3, 0]\n",
    "\n",
    "y = x[-1]    # equals 0\n",
    "z = len(x)   # equals 4"
   ]
  },
  {
   "cell_type": "markdown",
   "id": "funded-leader",
   "metadata": {},
   "source": [
    "- Sabendo o tamanho da lista, é possível \"desempacotá-la\":"
   ]
  },
  {
   "cell_type": "code",
   "execution_count": null,
   "id": "floral-debate",
   "metadata": {},
   "outputs": [],
   "source": [
    "x, y = [1, 2]  # now x is 1, y is 2\n",
    "\n",
    "_, y = [1, 2]  # now y == 2, didn't care about the first element"
   ]
  },
  {
   "cell_type": "markdown",
   "id": "eastern-dance",
   "metadata": {},
   "source": [
    "## Tuplas\n",
    "\n",
    "- Primas **imutáveis** das listas:"
   ]
  },
  {
   "cell_type": "code",
   "execution_count": null,
   "id": "mysterious-landing",
   "metadata": {},
   "outputs": [],
   "source": [
    "my_list = [1, 2]\n",
    "my_tuple = (1, 2)\n",
    "other_tuple = 3, 4\n",
    "my_list[1] = 3     # my_list is now [1, 3]\n",
    "\n",
    "try:\n",
    "  my_tuple[1] = 3\n",
    "except TypeError:\n",
    "  print(\"cannot modify a tuple\")"
   ]
  },
  {
   "cell_type": "markdown",
   "id": "assigned-happening",
   "metadata": {},
   "source": [
    "## Tuplas\n",
    "\n",
    "- Tuplas são uma forma conveniente de retornar múltiplos valores em uma função:"
   ]
  },
  {
   "cell_type": "code",
   "execution_count": null,
   "id": "integrated-mixture",
   "metadata": {},
   "outputs": [],
   "source": [
    "def sum_and_product(x, y):\n",
    "  return (x + y),(x * y)\n",
    "\n",
    "sp = sum_and_product(2, 3)      # equals (5, 6)\n",
    "s, p = sum_and_product(5, 10)   # s is 15, p is 50"
   ]
  },
  {
   "cell_type": "markdown",
   "id": "alternative-solid",
   "metadata": {},
   "source": [
    "- Tuplas (e listas) podem ser utilizadas para *atribuição múltipla*:"
   ]
  },
  {
   "cell_type": "code",
   "execution_count": null,
   "id": "beneficial-ordinary",
   "metadata": {},
   "outputs": [],
   "source": [
    "x, y = 1, 2   # now x is 1, y is 2\n",
    "x, y = y, x   # Pythonic way to swap variables; now x is 2, y is 1"
   ]
  },
  {
   "cell_type": "markdown",
   "id": "bound-dream",
   "metadata": {},
   "source": [
    "## Dicionários\n",
    "\n",
    "- Mais uma estrutura fundamental;\n",
    "- Associa *chaves* com *valores*:"
   ]
  },
  {
   "cell_type": "code",
   "execution_count": null,
   "id": "listed-arrangement",
   "metadata": {},
   "outputs": [],
   "source": [
    "empty_dict = {}                       # Pythonic\n",
    "empty_dict2 = dict()                  # less Pythonic\n",
    "grades = { \"Joel\" : 80, \"Tim\" : 95 }  # dictionary literal\n",
    "\n",
    "joels_grade = grades[\"Joel\"]          # equals 80"
   ]
  },
  {
   "cell_type": "markdown",
   "id": "oriented-particular",
   "metadata": {},
   "source": [
    "- Operador `in` também funciona para dicionários (mas aqui ele é rápido):"
   ]
  },
  {
   "cell_type": "code",
   "execution_count": null,
   "id": "medieval-pixel",
   "metadata": {},
   "outputs": [],
   "source": [
    "joel_has_grade = \"Joel\" in grades     # True\n",
    "kate_has_grade = \"Kate\" in grades     # False"
   ]
  },
  {
   "cell_type": "markdown",
   "id": "legendary-start",
   "metadata": {},
   "source": [
    "## Dicionários\n",
    "\n",
    "- Ocorre uma exceção caso uma chave não existente seja acessada:"
   ]
  },
  {
   "cell_type": "code",
   "execution_count": null,
   "id": "laden-prerequisite",
   "metadata": {},
   "outputs": [],
   "source": [
    "try:\n",
    " kates_grade = grades[\"Kate\"]\n",
    "except KeyError:\n",
    "  print(\"no grade for Kate!\")"
   ]
  },
  {
   "cell_type": "markdown",
   "id": "major-syndrome",
   "metadata": {},
   "source": [
    "- O método `.get()` retorna um valor padrão caso a chave não exista:"
   ]
  },
  {
   "cell_type": "code",
   "execution_count": null,
   "id": "arabic-plaintiff",
   "metadata": {},
   "outputs": [],
   "source": [
    "joels_grade = grades.get(\"Joel\", 0)   # equals 80\n",
    "kates_grade = grades.get(\"Kate\", 0)   # equals 0\n",
    "no_ones_grade = grades.get(\"No One\")  # default default is None"
   ]
  },
  {
   "cell_type": "markdown",
   "id": "lined-insert",
   "metadata": {},
   "source": [
    "## Dicionários\n",
    "\n",
    "- Atribuição de valores é como esperado:"
   ]
  },
  {
   "cell_type": "code",
   "execution_count": null,
   "id": "alpine-pierce",
   "metadata": {},
   "outputs": [],
   "source": [
    "grades[\"Tim\"] = 99          # replaces the old value\n",
    "grades[\"Kate\"] = 100        # adds a third entry\n",
    "num_students = len(grades)  # equals 3"
   ]
  },
  {
   "cell_type": "markdown",
   "id": "composite-fence",
   "metadata": {},
   "source": [
    "- Dicionários são comumente utilizados na representação de estruturas de dados mais complexas:"
   ]
  },
  {
   "cell_type": "code",
   "execution_count": null,
   "id": "outer-visit",
   "metadata": {},
   "outputs": [],
   "source": [
    "tweet = {\n",
    "  \"user\" : \"joelgrus\",\n",
    "  \"text\" : \"Data Science is Awesome\",\n",
    "  \"retweet_count\" : 100,\n",
    "  \"hashtags\" : [\"#data\", \"#science\", \"#datascience\", \"#awesome\", \"#yolo\"]\n",
    "}"
   ]
  },
  {
   "cell_type": "markdown",
   "id": "beginning-customs",
   "metadata": {},
   "source": [
    "## Dicionários\n",
    "\n",
    "- Além de procurar por chaves específicas, é possível trabalhar com o conjunto dos dados:"
   ]
  },
  {
   "cell_type": "code",
   "execution_count": null,
   "id": "smoking-verification",
   "metadata": {},
   "outputs": [],
   "source": [
    "tweet_keys = tweet.keys()      # list of keys\n",
    "tweet_values = tweet.values()  # list of values\n",
    "tweet_items = tweet.items()    # list of (key, value) tuples\n",
    "\"user\" in tweet_keys           # True, but uses a slow list in\n",
    "\"user\" in tweet                # more Pythonic, uses faster dict in\n",
    "\"joelgrus\" in tweet_values     # True"
   ]
  },
  {
   "cell_type": "markdown",
   "id": "outdoor-cornwall",
   "metadata": {},
   "source": [
    "- Chaves de dicionários **precisam** ser imutáveis (como tuplas e strings):\n",
    "  - Na verdade, precisam ser `hashables`. Por quê?\n",
    "\n",
    "## defaultdict\n",
    "\n",
    "- Imagine um pequeno algoritmo para contar a ocorrência de palavras de um texto:"
   ]
  },
  {
   "cell_type": "code",
   "execution_count": null,
   "id": "atlantic-discussion",
   "metadata": {},
   "outputs": [],
   "source": [
    "word_counts = {}\n",
    "for word in document:\n",
    "  if word in word_counts:\n",
    "    word_counts[word] += 1\n",
    "  else:\n",
    "    word_counts[word] = 1"
   ]
  },
  {
   "cell_type": "markdown",
   "id": "necessary-federal",
   "metadata": {},
   "source": [
    "## defaultdict\n",
    "\n",
    "- Ou ainda:"
   ]
  },
  {
   "cell_type": "code",
   "execution_count": null,
   "id": "living-bandwidth",
   "metadata": {},
   "outputs": [],
   "source": [
    "word_counts = {}\n",
    "for word in document:\n",
    "  try:\n",
    "    word_counts[word] += 1\n",
    "  except KeyError:\n",
    "    word_counts[word] = 1"
   ]
  },
  {
   "cell_type": "markdown",
   "id": "collected-northwest",
   "metadata": {},
   "source": [
    "## defaultdict\n",
    "\n",
    "- Mais uma opção:"
   ]
  },
  {
   "cell_type": "code",
   "execution_count": null,
   "id": "plain-preview",
   "metadata": {},
   "outputs": [],
   "source": [
    "word_counts = {}\n",
    "for word in document:\n",
    "  previous_count = word_counts.get(word, 0)\n",
    "  word_counts[word] = previous_count + 1"
   ]
  },
  {
   "cell_type": "markdown",
   "id": "documented-reset",
   "metadata": {},
   "source": [
    "## defaultdict\n",
    "\n",
    "- Todas as opções anteriores são interessantes, porém causam uma certa diminuição na legibilidade do código;\n",
    "- `defaultadict` cria um dicionário que atribui um valor inicial a uma chave em seu primeiro acesso:"
   ]
  },
  {
   "cell_type": "code",
   "execution_count": null,
   "id": "reliable-copyright",
   "metadata": {},
   "outputs": [],
   "source": [
    "from collections import defaultdict\n",
    "\n",
    "word_counts = defaultdict(int)       # int() produces 0\n",
    "for word in document:\n",
    "  word_counts[word] += 1"
   ]
  },
  {
   "cell_type": "markdown",
   "id": "consecutive-attribute",
   "metadata": {},
   "source": [
    "- `defaultdict` recebe uma função como argumento;\n",
    "- A função deve retornar o valor a ser atribuído no primeiro acesso de uma chave.\n",
    "\n",
    "## defaultdict"
   ]
  },
  {
   "cell_type": "code",
   "execution_count": null,
   "id": "certain-voice",
   "metadata": {},
   "outputs": [],
   "source": [
    "dd_list = defaultdict(list)            # list() produces an empty list\n",
    "dd_list[2].append(1)                   # now dd_list contains {2: [1]}\n",
    "\n",
    "dd_dict = defaultdict(dict)            # dict() produces an empty dict\n",
    "dd_dict[\"Joel\"][\"City\"] = \"Seattle\"    # { \"Joel\" : { \"City\" : Seattle\"}}\n",
    "\n",
    "dd_pair = defaultdict(lambda: [0, 0])\n",
    "dd_pair[2][1] = 1                      # now dd_pair contains {2: [0,1]}"
   ]
  },
  {
   "cell_type": "markdown",
   "id": "considerable-cache",
   "metadata": {},
   "source": [
    "## counter\n",
    "\n",
    "- Um `counter` conta coisas :)"
   ]
  },
  {
   "cell_type": "code",
   "execution_count": null,
   "id": "significant-baghdad",
   "metadata": {},
   "outputs": [],
   "source": [
    "from collections import Counter\n",
    "\n",
    "c = Counter([0, 1, 2, 0])        # c is (basically) { 0 : 2, 1 : 1, 2 : 1 }"
   ]
  },
  {
   "cell_type": "markdown",
   "id": "advisory-blend",
   "metadata": {},
   "source": [
    "- Resolve facilmente o problema de contar palavras:"
   ]
  },
  {
   "cell_type": "code",
   "execution_count": null,
   "id": "collaborative-boxing",
   "metadata": {},
   "outputs": [],
   "source": [
    "word_counts = Counter(document)"
   ]
  },
  {
   "cell_type": "markdown",
   "id": "coastal-terrorism",
   "metadata": {},
   "source": [
    "- Possui, ainda, métodos interessantes, como o `most_common`:"
   ]
  },
  {
   "cell_type": "code",
   "execution_count": null,
   "id": "unable-battery",
   "metadata": {},
   "outputs": [],
   "source": [
    "# print the 10 most common words and their counts\n",
    "for word, count in word_counts.most_common(10):\n",
    "  print(word, count)"
   ]
  },
  {
   "cell_type": "markdown",
   "id": "valid-ladder",
   "metadata": {},
   "source": [
    "## Conjuntos\n",
    "\n",
    "- Mais uma estrutura de dados fundamental;\n",
    "- É como uma lista ou uma tupla, só que diferente:\n",
    "  - Representa conjuntos de elementos **distintos**;"
   ]
  },
  {
   "cell_type": "code",
   "execution_count": null,
   "id": "jewish-thought",
   "metadata": {},
   "outputs": [],
   "source": [
    "s = set()\n",
    "s.add(1)    # s is now { 1 }\n",
    "s.add(2)    # s is now { 1, 2 }\n",
    "s.add(2)    # s is still { 1, 2 }\n",
    "x = len(s)  # equals 2\n",
    "y = 2 in s  # equals True\n",
    "z = 3 in s  # equals False"
   ]
  },
  {
   "cell_type": "markdown",
   "id": "plastic-outreach",
   "metadata": {},
   "source": [
    "- `s = {}` não inicializa um conjunto, por quê?\n",
    "\n",
    "\n",
    "- O operador `in` é muito rápido quando aplicado a conjuntos (por quê?);\n",
    "\n",
    "## Conjuntos\n",
    "\n",
    "- Ótima forma de encontrar os elementos distintos em uma coleção:"
   ]
  },
  {
   "cell_type": "code",
   "execution_count": null,
   "id": "loved-gates",
   "metadata": {},
   "outputs": [],
   "source": [
    "item_list = [1, 2, 3, 1, 2, 3]\n",
    "num_items = len(item_list)           # 6\n",
    "item_set = set(item_list)            # {1, 2, 3}\n",
    "num_distinct_items = len(item_set)   # 3\n",
    "distinct_item_list = list(item_set)  # [1, 2, 3]"
   ]
  },
  {
   "cell_type": "markdown",
   "id": "recreational-example",
   "metadata": {},
   "source": [
    "## Controle de Fluxo\n",
    "\n",
    "- O básico de sempre (mas lembre-se do `:`):"
   ]
  },
  {
   "cell_type": "code",
   "execution_count": null,
   "id": "hidden-feature",
   "metadata": {},
   "outputs": [],
   "source": [
    "if 1 > 2:\n",
    "  message = \"if only 1 were greater than two...\"\n",
    "elif 1 > 3:\n",
    "  message = \"elif stands for 'else if'\"\n",
    "else:\n",
    "  message = \"when all else fails use else (if you want to)\""
   ]
  },
  {
   "cell_type": "markdown",
   "id": "hawaiian-astronomy",
   "metadata": {},
   "source": [
    "- Comparações \"ternárias\" também são possíveis, mas use com moderação:"
   ]
  },
  {
   "cell_type": "code",
   "execution_count": null,
   "id": "linear-newton",
   "metadata": {},
   "outputs": [],
   "source": [
    "parity = \"even\" if x % 2 == 0 else \"odd\""
   ]
  },
  {
   "cell_type": "markdown",
   "id": "ignored-radiation",
   "metadata": {},
   "source": [
    "## Controle de Fluxo - Laços\n",
    "\n",
    "- Embora exista o `while`:"
   ]
  },
  {
   "cell_type": "code",
   "execution_count": null,
   "id": "female-forum",
   "metadata": {},
   "outputs": [],
   "source": [
    "x = 0\n",
    "while x < 10:\n",
    "  print(f\"{x} is less than 10\")\n",
    "  x += 1"
   ]
  },
  {
   "cell_type": "markdown",
   "id": "upper-citizenship",
   "metadata": {},
   "source": [
    "- O uso de `for` que itera sobre uma coleção é muito mais comum e preferível:"
   ]
  },
  {
   "cell_type": "code",
   "execution_count": null,
   "id": "electrical-attendance",
   "metadata": {},
   "outputs": [],
   "source": [
    "for x in range(10):\n",
    "  print(f\"{x} is less than 10\")"
   ]
  },
  {
   "cell_type": "markdown",
   "id": "tough-raise",
   "metadata": {},
   "source": [
    "## Controle de Fluxo - Laços\n",
    "\n",
    "- `break` e `continue` estão disponíveis também:"
   ]
  },
  {
   "cell_type": "code",
   "execution_count": null,
   "id": "complimentary-operations",
   "metadata": {},
   "outputs": [],
   "source": [
    "for x in range(10):\n",
    "  if x == 3:\n",
    "    continue # go immediately to the next iteration\n",
    "  if x == 5:\n",
    "    break # quit the loop entirely\n",
    "  print(x)"
   ]
  },
  {
   "cell_type": "markdown",
   "id": "mounted-mechanics",
   "metadata": {},
   "source": [
    "## Veracidade\n",
    "\n",
    "- Mais uma vez, nada fora do esperado:"
   ]
  },
  {
   "cell_type": "code",
   "execution_count": null,
   "id": "static-showcase",
   "metadata": {},
   "outputs": [],
   "source": [
    "one_is_less_than_two = 1 < 2       # equals True\n",
    "true_equals_false = True == False  # equals False"
   ]
  },
  {
   "cell_type": "code",
   "execution_count": null,
   "id": "liberal-economy",
   "metadata": {},
   "outputs": [],
   "source": [
    "x = None\n",
    "assert x == None    # prints True, but is not Pythonic\n",
    "assert x is None    # prints True, and is Pythonic"
   ]
  },
  {
   "cell_type": "markdown",
   "id": "beginning-wealth",
   "metadata": {},
   "source": [
    "## Veracidade\n",
    "\n",
    "- Todos os itens a seguir são considerados falsos:"
   ]
  },
  {
   "cell_type": "code",
   "execution_count": null,
   "id": "enclosed-valve",
   "metadata": {},
   "outputs": [],
   "source": [
    "False\n",
    "None\n",
    "[]      # (an empty list)\n",
    "{}      # (an empty dict)\n",
    "\"\"\n",
    "set()\n",
    "0\n",
    "0.0"
   ]
  },
  {
   "cell_type": "markdown",
   "id": "final-block",
   "metadata": {},
   "source": [
    "## Veracidade - inicialização de variáveis\n",
    "\n",
    "- Considere o seguinte exemplo:"
   ]
  },
  {
   "cell_type": "code",
   "execution_count": null,
   "id": "pending-guyana",
   "metadata": {},
   "outputs": [],
   "source": [
    "s = some_function_that_returns_a_string()\n",
    "if s:\n",
    "    first_char = s[0]\n",
    "else:\n",
    "    first_char = \"\""
   ]
  },
  {
   "cell_type": "markdown",
   "id": "express-grave",
   "metadata": {},
   "source": [
    "- Uma alternativa seria:"
   ]
  },
  {
   "cell_type": "code",
   "execution_count": null,
   "id": "palestinian-encyclopedia",
   "metadata": {},
   "outputs": [],
   "source": [
    "first_char = s and s[0]"
   ]
  },
  {
   "cell_type": "markdown",
   "id": "limited-video",
   "metadata": {},
   "source": [
    "- Operador `and` retorna o último operando se o verdadeiro. \n",
    "\n",
    "## Veracidade - inicialização de variáveis\n",
    "\n",
    "- Agora uma opção com `or`:"
   ]
  },
  {
   "cell_type": "code",
   "execution_count": null,
   "id": "promising-painting",
   "metadata": {},
   "outputs": [],
   "source": [
    "safe_x = x or 0"
   ]
  },
  {
   "cell_type": "markdown",
   "id": "described-concern",
   "metadata": {},
   "source": [
    "- É o mesmo que:"
   ]
  },
  {
   "cell_type": "code",
   "execution_count": null,
   "id": "coated-edwards",
   "metadata": {},
   "outputs": [],
   "source": [
    "safe_x = x if x is not None else 0"
   ]
  },
  {
   "cell_type": "markdown",
   "id": "neutral-raise",
   "metadata": {},
   "source": [
    "- Operador `or` retorna o primeiro operando verdadeiro.\n",
    "\n",
    "## Veracidade\n",
    "\n",
    "- O Python possui as funções `all` e `any`:\n",
    "  - `all` retorna True se todos os elementos de uma coleção são \"verdadeiros\";\n",
    "  - `any` retorna True se ao menos um elemento de uma coleção é \"verdadeiro\";"
   ]
  },
  {
   "cell_type": "code",
   "execution_count": null,
   "id": "exempt-landscape",
   "metadata": {},
   "outputs": [],
   "source": [
    "all([True, 1, { 3 }])  # True\n",
    "all([True, 1, {}])     # False, {} is falsy\n",
    "any([True, 1, {}])     # True, True is truthy\n",
    "all([])                # True, no falsy elements in the list\n",
    "any([])                # False, no truthy elements in the list"
   ]
  },
  {
   "cell_type": "markdown",
   "id": "elegant-depression",
   "metadata": {},
   "source": [
    "## Exercícios\n",
    "\n",
    "1. Escreva uma função que converte horas, minutos e segundos em um número total de segundos.\n",
    "2. Escreva uma função que reconhece palíndromos.\n",
    "3. Escreva uma função `soma_de_quadrados(xs)` que recebe uma lista de números `xs` e retorna a soma dos quadrados dos números na lista. Por exemplo `soma_dos_quadrados([2, 3, 4])` deve retorna 4+9+16 que é 29.\n",
    "4. Escreva uma função recursiva que calcula o fatorial de um número.\n",
    "5. Escreva uma função recursiva para inverter uma lista.\n",
    "\n",
    "# Não tão básico<br>Parte 3\n",
    "\n",
    "## Ordenação"
   ]
  },
  {
   "cell_type": "code",
   "execution_count": 1,
   "id": "opened-county",
   "metadata": {},
   "outputs": [],
   "source": [
    "x = [4,1,2,3]\n",
    "y = sorted(x)  # is [1,2,3,4], x is unchanged\n",
    "x.sort()       # now x is [1,2,3,4]"
   ]
  },
  {
   "cell_type": "code",
   "execution_count": null,
   "id": "removable-diploma",
   "metadata": {},
   "outputs": [],
   "source": [
    "# sort the list by absolute value from largest to smallest\n",
    "x = sorted([-4,1,-2,3], key=abs, reverse=True) # is [-4,3,-2,1]"
   ]
  },
  {
   "cell_type": "code",
   "execution_count": 2,
   "id": "threaded-dover",
   "metadata": {},
   "outputs": [
    {
     "ename": "NameError",
     "evalue": "name 'word_counts' is not defined",
     "output_type": "error",
     "traceback": [
      "\u001b[1;31m---------------------------------------------------------------------------\u001b[0m",
      "\u001b[1;31mNameError\u001b[0m                                 Traceback (most recent call last)",
      "\u001b[1;32m~\\AppData\\Local\\Temp/ipykernel_15636/1189993357.py\u001b[0m in \u001b[0;36m<module>\u001b[1;34m\u001b[0m\n\u001b[0;32m      1\u001b[0m \u001b[1;31m# sort the words and counts from highest count to lowest\u001b[0m\u001b[1;33m\u001b[0m\u001b[1;33m\u001b[0m\u001b[0m\n\u001b[1;32m----> 2\u001b[1;33m wc = sorted(word_counts.items(),\n\u001b[0m\u001b[0;32m      3\u001b[0m             \u001b[0mkey\u001b[0m\u001b[1;33m=\u001b[0m\u001b[1;32mlambda\u001b[0m \u001b[0mword_and_count\u001b[0m\u001b[1;33m:\u001b[0m \u001b[0mword_and_count\u001b[0m\u001b[1;33m[\u001b[0m\u001b[1;36m1\u001b[0m\u001b[1;33m]\u001b[0m\u001b[1;33m,\u001b[0m\u001b[1;33m\u001b[0m\u001b[1;33m\u001b[0m\u001b[0m\n\u001b[0;32m      4\u001b[0m             reverse=True)\n\u001b[0;32m      5\u001b[0m \u001b[0mprint\u001b[0m\u001b[1;33m(\u001b[0m\u001b[0mwc\u001b[0m\u001b[1;33m)\u001b[0m\u001b[1;33m\u001b[0m\u001b[1;33m\u001b[0m\u001b[0m\n",
      "\u001b[1;31mNameError\u001b[0m: name 'word_counts' is not defined"
     ]
    }
   ],
   "source": [
    "# sort the words and counts from highest count to lowest\n",
    "wc = sorted(word_counts.items(),\n",
    "            key=lambda word_and_count: word_and_count[1],\n",
    "            reverse=True)\n",
    "print(wc)"
   ]
  },
  {
   "cell_type": "markdown",
   "id": "wicked-serial",
   "metadata": {},
   "source": [
    "## List Comprehensions\n",
    "\n",
    "- Recurso bastante interessante da linguagem;\n",
    "- Forma de escrever transformações em listas (ou dicionários, ou conjuntos):"
   ]
  },
  {
   "cell_type": "code",
   "execution_count": null,
   "id": "hidden-medium",
   "metadata": {},
   "outputs": [],
   "source": [
    "even_numbers = [x for x in range(5) if x % 2 == 0]  # [0, 2, 4]\n",
    "squares = [x * x for x in range(5)]                 # [0, 1, 4, 9, 16]\n",
    "even_squares = [x * x for x in even_numbers]        # [0, 4, 16 ]"
   ]
  },
  {
   "cell_type": "markdown",
   "id": "selected-flavor",
   "metadata": {},
   "source": [
    "- Similarmente com dicionários e conjuntos:"
   ]
  },
  {
   "cell_type": "code",
   "execution_count": null,
   "id": "noticed-integer",
   "metadata": {},
   "outputs": [],
   "source": [
    "square_dict = { x : x * x for x in range(5) } # { 0:0, 1:1, 2:4, 3:9, 4:16 }\n",
    "square_set = { x * x for x in [1, -1] }       # { 1 }"
   ]
  },
  {
   "cell_type": "markdown",
   "id": "special-dover",
   "metadata": {},
   "source": [
    "- O carácter `_` indica uma variável anônima, que propositalmente não será utilizada:"
   ]
  },
  {
   "cell_type": "code",
   "execution_count": null,
   "id": "amazing-complement",
   "metadata": {},
   "outputs": [],
   "source": [
    "zeroes = [0 for _ in even_numbers] # has the same length as even_numbers"
   ]
  },
  {
   "cell_type": "markdown",
   "id": "certain-plumbing",
   "metadata": {},
   "source": [
    "## List Comprehensions aninhadas\n",
    "\n",
    "- É possível utilizar o recurso de list comprehensions com múltiplos laços:"
   ]
  },
  {
   "cell_type": "code",
   "execution_count": null,
   "id": "cubic-shannon",
   "metadata": {},
   "outputs": [],
   "source": [
    "pairs = [(x, y)\n",
    "         for x in range(10)\n",
    "         for y in range(10)] # 100 pairs (0,0) (0,1) ... (9,8), (9,9)"
   ]
  },
  {
   "cell_type": "markdown",
   "id": "sporting-mathematics",
   "metadata": {},
   "source": [
    "- É comum a inclusão de condicionais ao final dos laços:"
   ]
  },
  {
   "cell_type": "code",
   "execution_count": null,
   "id": "coastal-apparatus",
   "metadata": {},
   "outputs": [],
   "source": [
    "strings = ['a', 'as', 'bat', 'car', 'dove', 'python']\n",
    "[x.upper() for x in strings if len(x) > 2]"
   ]
  },
  {
   "cell_type": "markdown",
   "id": "dedicated-production",
   "metadata": {},
   "source": [
    "## List Comprehensions mais exemplos"
   ]
  },
  {
   "cell_type": "code",
   "execution_count": null,
   "id": "saved-nightmare",
   "metadata": {},
   "outputs": [],
   "source": [
    "all_data = [['John', 'Emily', 'Michael', 'Mary', 'Steven'],\n",
    "            ['Maria', 'Juan', 'Javier', 'Natalia', 'Pilar']]\n",
    "\n",
    "result = [name\n",
    "          for names in all_data\n",
    "          for name in names\n",
    "          if name.count('e') >= 2]\n",
    "# result = ['Steven']"
   ]
  },
  {
   "cell_type": "markdown",
   "id": "vertical-scope",
   "metadata": {},
   "source": [
    "- Perceba que laços mais externos podem utilizar valores de laços mais internos.\n",
    "\n",
    "## List Comprehensions mais exemplos"
   ]
  },
  {
   "cell_type": "code",
   "execution_count": null,
   "id": "patent-greece",
   "metadata": {},
   "outputs": [],
   "source": [
    "some_tuples = [(1, 2, 3), (4, 5, 6), (7, 8, 9)]\n",
    "flattened = [x for tup in some_tuples for x in tup]\n",
    "# flattened = [1, 2, 3, 4, 5, 6, 7, 8, 9]"
   ]
  },
  {
   "cell_type": "code",
   "execution_count": null,
   "id": "worldwide-polymer",
   "metadata": {},
   "outputs": [],
   "source": [
    "[[x for x in tup] for tup in some_tuples]  # tuples to list"
   ]
  },
  {
   "cell_type": "markdown",
   "id": "smoking-direction",
   "metadata": {},
   "source": [
    "## Testes automáticos com assert\n",
    "\n",
    "- Com o comando `assert` podemos realizar pequenos testes para verificar se nossas rotinas se comportam de maneira correta:\n",
    "  - Ao falhar, o `assert` retorna uma exceção do tipo `AssertionError`."
   ]
  },
  {
   "cell_type": "code",
   "execution_count": 3,
   "id": "trained-death",
   "metadata": {},
   "outputs": [],
   "source": [
    "assert 1 + 1 == 2\n",
    "assert 1 + 1 == 2, \"1 + 1 should equal 2 but didn't\"\n",
    "\n",
    "# exemplo com função\n",
    "def smallest_item(xs):\n",
    "    return min(xs)\n",
    "\n",
    "assert smallest_item([10, 20, 5, 40]) == 5\n",
    "assert smallest_item([1, 0, -1, 2]) == -1"
   ]
  },
  {
   "cell_type": "markdown",
   "id": "rural-flexibility",
   "metadata": {},
   "source": [
    "## Orientação a Objetos {.smaller}"
   ]
  },
  {
   "cell_type": "code",
   "execution_count": null,
   "id": "developmental-vampire",
   "metadata": {},
   "outputs": [],
   "source": [
    "# by convention, we give classes PascalCase names\n",
    "class CountingClicker:\n",
    "  \"\"\"A class can/should have a docstring, just like a function\"\"\"\n",
    "\n",
    "  # these are the member functions\n",
    "  # every one takes a first parameter \"self\" (another convention)\n",
    "  def __init__(self, count = 0):\n",
    "    \"\"\"This is the constructor.\"\"\"\n",
    "    self.count = count\n",
    "\n",
    "  def __repr__(self):\n",
    "    return f\"CountingClicker(count={self.count})\"\n",
    "\n",
    "  def click(self, num_times = 1):\n",
    "      \"\"\"Click the clicker some number of times.\"\"\"\n",
    "      self.count += num_times\n",
    "\n",
    "  def read(self):\n",
    "      return self.count\n",
    "\n",
    "  def reset(self):\n",
    "      self.count = 0"
   ]
  },
  {
   "cell_type": "markdown",
   "id": "utility-formula",
   "metadata": {},
   "source": [
    "## Orientação a Objetos"
   ]
  },
  {
   "cell_type": "code",
   "execution_count": null,
   "id": "ignored-residence",
   "metadata": {},
   "outputs": [],
   "source": [
    "clicker = CountingClicker()\n",
    "assert clicker.read() == 0, \"clicker should start with count 0\"\n",
    "clicker.click()\n",
    "clicker.click()\n",
    "assert clicker.read() == 2, \"after two clicks, clicker should have count 2\"\n",
    "clicker.reset()\n",
    "assert clicker.read() == 0, \"after reset, clicker should be back to 0\""
   ]
  },
  {
   "cell_type": "markdown",
   "id": "quality-magnitude",
   "metadata": {},
   "source": [
    "## Orientação a Objetos - Herança"
   ]
  },
  {
   "cell_type": "code",
   "execution_count": null,
   "id": "outer-vitamin",
   "metadata": {},
   "outputs": [],
   "source": [
    "# A subclass inherits all the behavior of its parent class.\n",
    "class NoResetClicker(CountingClicker):\n",
    "  # This class has all the same methods as CountingClicker\n",
    "\n",
    "  # Except that it has a reset method that does nothing.\n",
    "  def reset(self):\n",
    "      pass\n",
    "\n",
    "clicker2 = NoResetClicker()\n",
    "assert clicker2.read() == 0\n",
    "clicker2.click()\n",
    "assert clicker2.read() == 1\n",
    "clicker2.reset()\n",
    "assert clicker2.read() == 1, \"reset shouldn't do anything\""
   ]
  },
  {
   "cell_type": "markdown",
   "id": "combined-brave",
   "metadata": {},
   "source": [
    "## Geradores\n",
    "\n",
    "- Um Gerador é uma estrutura de dados que pode ser iterada (como uma lista), mas que gera os elementos apenas no momento em que são requisitados (*lazyly*);\n",
    "  - Em que casos isso é interessante?"
   ]
  },
  {
   "cell_type": "code",
   "execution_count": null,
   "id": "contrary-spank",
   "metadata": {},
   "outputs": [],
   "source": [
    "def generate_range(n):\n",
    "    i = 0\n",
    "    while i < n:\n",
    "        yield i   # every call to yield produces a value of the generator\n",
    "        i += 1\n",
    "\n",
    "for i in generate_range(10):\n",
    "  print(f\"i: {i}\")"
   ]
  },
  {
   "cell_type": "markdown",
   "id": "under-contest",
   "metadata": {},
   "source": [
    "## Geradores\n",
    "\n",
    "- Uma outra forma de criar geradores é através de *comprehensions* envoltos em parênteses:"
   ]
  },
  {
   "cell_type": "code",
   "execution_count": null,
   "id": "motivated-apache",
   "metadata": {},
   "outputs": [],
   "source": [
    "lazy_evens_below_20 = (i for i in range(20) if i % 2 == 0)"
   ]
  },
  {
   "cell_type": "markdown",
   "id": "tight-enterprise",
   "metadata": {},
   "source": [
    "## Geradores - Mais exemplos"
   ]
  },
  {
   "cell_type": "code",
   "execution_count": 5,
   "id": "seventh-harvest",
   "metadata": {},
   "outputs": [
    {
     "ename": "NameError",
     "evalue": "name 'natural_numbers' is not defined",
     "output_type": "error",
     "traceback": [
      "\u001b[1;31m---------------------------------------------------------------------------\u001b[0m",
      "\u001b[1;31mNameError\u001b[0m                                 Traceback (most recent call last)",
      "\u001b[1;32m~\\AppData\\Local\\Temp/ipykernel_15636/1332245495.py\u001b[0m in \u001b[0;36m<module>\u001b[1;34m\u001b[0m\n\u001b[0;32m      2\u001b[0m \u001b[1;33m\u001b[0m\u001b[0m\n\u001b[0;32m      3\u001b[0m \u001b[1;31m# None of these computations *does* anything until we iterate\u001b[0m\u001b[1;33m\u001b[0m\u001b[1;33m\u001b[0m\u001b[0m\n\u001b[1;32m----> 4\u001b[1;33m \u001b[0mdata\u001b[0m \u001b[1;33m=\u001b[0m \u001b[0mnatural_numbers\u001b[0m\u001b[1;33m(\u001b[0m\u001b[1;33m)\u001b[0m\u001b[1;33m\u001b[0m\u001b[1;33m\u001b[0m\u001b[0m\n\u001b[0m\u001b[0;32m      5\u001b[0m \u001b[0mevens\u001b[0m \u001b[1;33m=\u001b[0m \u001b[1;33m(\u001b[0m\u001b[0mx\u001b[0m \u001b[1;32mfor\u001b[0m \u001b[0mx\u001b[0m \u001b[1;32min\u001b[0m \u001b[0mdata\u001b[0m \u001b[1;32mif\u001b[0m \u001b[0mx\u001b[0m \u001b[1;33m%\u001b[0m \u001b[1;36m2\u001b[0m \u001b[1;33m==\u001b[0m \u001b[1;36m0\u001b[0m\u001b[1;33m)\u001b[0m\u001b[1;33m\u001b[0m\u001b[1;33m\u001b[0m\u001b[0m\n\u001b[0;32m      6\u001b[0m \u001b[0meven_squares\u001b[0m \u001b[1;33m=\u001b[0m \u001b[1;33m(\u001b[0m\u001b[0mx\u001b[0m \u001b[1;33m**\u001b[0m \u001b[1;36m2\u001b[0m \u001b[1;32mfor\u001b[0m \u001b[0mx\u001b[0m \u001b[1;32min\u001b[0m \u001b[0mevens\u001b[0m\u001b[1;33m)\u001b[0m\u001b[1;33m\u001b[0m\u001b[1;33m\u001b[0m\u001b[0m\n",
      "\u001b[1;31mNameError\u001b[0m: name 'natural_numbers' is not defined"
     ]
    }
   ],
   "source": [
    "# evens_below_20 = (i for i in generate_range(20) if i % 2 == 0)\n",
    "\n",
    "# None of these computations *does* anything until we iterate\n",
    "data = natural_numbers()\n",
    "evens = (x for x in data if x % 2 == 0)\n",
    "even_squares = (x ** 2 for x in evens)\n",
    "even_squares_ending_in_six = (x for x in even_squares if x % 10 == 6)\n",
    "# and so on"
   ]
  },
  {
   "cell_type": "markdown",
   "id": "composed-queue",
   "metadata": {},
   "source": [
    "## Iteradores\n",
    "\n",
    "- E para iterar sobre uma lista, mas mantendo informações sobre o índice de cada elemento? Como faz?"
   ]
  },
  {
   "cell_type": "code",
   "execution_count": null,
   "id": "incorporated-actor",
   "metadata": {},
   "outputs": [],
   "source": [
    "# not Pythonic\n",
    "for i in range(len(documents)):\n",
    "  document = documents[i]\n",
    "  do_something(i, document)\n",
    "\n",
    "# also not Pythonic\n",
    "i = 0\n",
    "for document in documents:\n",
    "  do_something(i, document)\n",
    "  i += 1"
   ]
  },
  {
   "cell_type": "markdown",
   "id": "modern-force",
   "metadata": {},
   "source": [
    "## Iteradores"
   ]
  },
  {
   "cell_type": "code",
   "execution_count": null,
   "id": "intense-romania",
   "metadata": {},
   "outputs": [],
   "source": [
    "for i, document in enumerate(documents):\n",
    "  do_something(i, document)"
   ]
  },
  {
   "cell_type": "markdown",
   "id": "three-sector",
   "metadata": {},
   "source": [
    "- Similarmente, se quisermos apenas os índices:"
   ]
  },
  {
   "cell_type": "code",
   "execution_count": null,
   "id": "recorded-trustee",
   "metadata": {},
   "outputs": [],
   "source": [
    "for i in range(len(documents)): do_something(i)   # not Pythonic\n",
    "for i, _ in enumerate(documents): do_something(i) # Pythonic"
   ]
  },
  {
   "cell_type": "markdown",
   "id": "prerequisite-photographer",
   "metadata": {},
   "source": [
    "## Aleatoriedade"
   ]
  },
  {
   "cell_type": "code",
   "execution_count": null,
   "id": "departmental-diamond",
   "metadata": {},
   "outputs": [],
   "source": [
    "import random\n",
    "\n",
    "four_uniform_randoms = [random.random() for _ in range(4)]\n",
    "\n",
    "# [0.8444218515250481, # random.random() produces numbers\n",
    "# 0.7579544029403025, # uniformly between 0 and 1\n",
    "# 0.420571580830845, # it's the random function we'll use\n",
    "# 0.25891675029296335] # most often"
   ]
  },
  {
   "cell_type": "code",
   "execution_count": null,
   "id": "fossil-rainbow",
   "metadata": {},
   "outputs": [],
   "source": [
    "random.seed(10)         # set the seed to 10\n",
    "print(random.random())  # 0.57140259469\n",
    "random.seed(10)         # reset the seed to 10\n",
    "print(random.random())  # 0.57140259469 again"
   ]
  },
  {
   "cell_type": "code",
   "execution_count": null,
   "id": "infectious-forward",
   "metadata": {},
   "outputs": [],
   "source": [
    "random.randrange(10)     # choose randomly from range(10) = [0, 1, ..., 9]\n",
    "random.randrange(3, 6)   # choose randomly from range(3, 6) = [3, 4, 5]"
   ]
  },
  {
   "cell_type": "markdown",
   "id": "simple-trustee",
   "metadata": {},
   "source": [
    "## Aleatoriedade"
   ]
  },
  {
   "cell_type": "code",
   "execution_count": null,
   "id": "dimensional-championship",
   "metadata": {},
   "outputs": [],
   "source": [
    "up_to_ten = list(range(10))\n",
    "random.shuffle(up_to_ten)\n",
    "print(up_to_ten)\n",
    "# [2, 5, 1, 9, 7, 3, 8, 6, 4, 0] (your results will probably be different)"
   ]
  },
  {
   "cell_type": "code",
   "execution_count": null,
   "id": "introductory-latest",
   "metadata": {},
   "outputs": [],
   "source": [
    "my_best_friend = random.choice([\"Alice\", \"Bob\", \"Charlie\"]) # \"Bob\" for me"
   ]
  },
  {
   "cell_type": "code",
   "execution_count": null,
   "id": "suburban-september",
   "metadata": {},
   "outputs": [],
   "source": [
    "lottery_numbers = range(60)\n",
    "winning_numbers = random.sample(lottery_numbers, 6) # [16, 36, 10, 6, 25, 9]"
   ]
  },
  {
   "cell_type": "code",
   "execution_count": null,
   "id": "sharp-modification",
   "metadata": {},
   "outputs": [],
   "source": [
    "four_with_replacement = [random.choice(range(10))\n",
    "                         for _ in range(4)]\n",
    "# [9, 4, 4, 2]"
   ]
  },
  {
   "cell_type": "markdown",
   "id": "blond-brave",
   "metadata": {},
   "source": [
    "## Expressões Regulares"
   ]
  },
  {
   "cell_type": "code",
   "execution_count": null,
   "id": "quarterly-uganda",
   "metadata": {},
   "outputs": [],
   "source": [
    "import re\n",
    "print(all([                                # all of these are true, because\n",
    "  not re.match(\"a\", \"cat\"),                # * 'cat' doesn't start with 'a'\n",
    "  re.search(\"a\", \"cat\"),                   # * 'cat' has an 'a' in it\n",
    "  not re.search(\"c\", \"dog\"),               # * 'dog' doesn't have a 'c' in it\n",
    "  3 == len(re.split(\"[ab]\", \"carbs\")),     # * split on a or b to ['c','r','s']\n",
    "  \"R-D-\" == re.sub(\"[0-9]\", \"-\", \"R2D2\")   # * replace digits with dashes\n",
    "  ])) # prints True"
   ]
  },
  {
   "cell_type": "markdown",
   "id": "subtle-female",
   "metadata": {},
   "source": [
    "## Zip e Desempacotamento de Argumentos\n",
    "\n",
    "- Por vezes, é necessário combinar listas, elemento a elemento:"
   ]
  },
  {
   "cell_type": "code",
   "execution_count": null,
   "id": "dominican-daily",
   "metadata": {},
   "outputs": [],
   "source": [
    "list1 = ['a', 'b', 'c']\n",
    "list2 = [1, 2, 3]\n",
    "zip(list1, list2)          # is [('a', 1), ('b', 2), ('c', 3)]"
   ]
  },
  {
   "cell_type": "markdown",
   "id": "detailed-training",
   "metadata": {},
   "source": [
    "- E a operação inversa:"
   ]
  },
  {
   "cell_type": "code",
   "execution_count": null,
   "id": "comic-timeline",
   "metadata": {},
   "outputs": [],
   "source": [
    "pairs = [('a', 1), ('b', 2), ('c', 3)]\n",
    "letters, numbers = zip(*pairs)"
   ]
  },
  {
   "cell_type": "markdown",
   "id": "caring-layer",
   "metadata": {},
   "source": [
    "## Zip e Desempacotamento de Argumentos\n",
    "\n",
    "- O `*` \"desempacota\" os elementos de uma lista em argumentos de função."
   ]
  },
  {
   "cell_type": "code",
   "execution_count": null,
   "id": "dynamic-rainbow",
   "metadata": {},
   "outputs": [],
   "source": [
    "def add(a, b): return a + b\n",
    "\n",
    "add(1, 2)     # returns 3\n",
    "add([1, 2])   # TypeError!\n",
    "add(*[1, 2])  # returns 3"
   ]
  },
  {
   "cell_type": "markdown",
   "id": "stuck-breed",
   "metadata": {},
   "source": [
    "## args e kwargs\n",
    "\n",
    "- Especificação de funções que recebem um número arbitrário de argumentos:"
   ]
  },
  {
   "cell_type": "code",
   "execution_count": null,
   "id": "happy-blackjack",
   "metadata": {},
   "outputs": [],
   "source": [
    "def magic(*args, **kwargs):\n",
    "  print(\"unnamed args:\", args)\n",
    "  print(\"keyword args:\", kwargs)\n",
    "\n",
    "magic(1, 2, key=\"word\", key2=\"word2\")\n",
    "# prints\n",
    "# unnamed args: (1, 2)\n",
    "# keyword args: {'key2': 'word2', 'key': 'word'}"
   ]
  },
  {
   "cell_type": "code",
   "execution_count": null,
   "id": "cultural-supervisor",
   "metadata": {},
   "outputs": [],
   "source": [
    "def other_way_magic(x, y, z):\n",
    "  return x + y + z\n",
    "\n",
    "x_y_list = [1, 2]\n",
    "z_dict = { \"z\" : 3 }\n",
    "print(other_way_magic(*x_y_list, **z_dict)) # 6 #desempacotando lista (*) e dicionario (**)"
   ]
  },
  {
   "cell_type": "markdown",
   "id": "musical-karen",
   "metadata": {},
   "source": [
    "## Anotações de Tipo\n",
    "\n",
    "- Python tem tipagem dinâmica;\n",
    "- Porém, na versão 3.6 foi adicionada a possibilidade de anotações de tipo:"
   ]
  },
  {
   "cell_type": "code",
   "execution_count": null,
   "id": "matched-ending",
   "metadata": {
    "attributes": {
     "classes": [
      "Python"
     ],
     "id": ""
    }
   },
   "outputs": [],
   "source": [
    "def add(a: int, b: int) -> int:\n",
    "    return a + b\n",
    "\n",
    "add(10, 5)           # you'd like this to be OK\n",
    "add(\"hi \", \"there\")  # you'd like this to be not OK"
   ]
  },
  {
   "cell_type": "markdown",
   "id": "decreased-adobe",
   "metadata": {},
   "source": [
    "## Anotações de tipo - mais exemplos"
   ]
  },
  {
   "cell_type": "code",
   "execution_count": null,
   "id": "loaded-heavy",
   "metadata": {},
   "outputs": [],
   "source": [
    "from typing import List  # note capital L\n",
    "\n",
    "def total(xs: List[float]) -> float:\n",
    "  t = 0.0\n",
    "  for i in xs:\n",
    "    t += i\n",
    "  return t\n",
    "\n",
    "from typing import Optional\n",
    "\n",
    "values: List[int] = []\n",
    "best_so_far: Optional[float] = None  # allowed to be either a float or None"
   ]
  },
  {
   "cell_type": "markdown",
   "id": "ceramic-rebate",
   "metadata": {},
   "source": [
    "## Exercícios\n",
    "1. Utilize List Comprehension para elevar ao quadrado todos os elementos de uma lista;\n",
    "2. Utilize List Comprehension para retirar elementos palíndromos de uma lista de strings;\n",
    "3. Utilize List Comprehension para, dadas as listas A e B, criar uma lista C composta apenas pelos elementos presentes em ambas A e B;\n",
    "\n",
    "# IPython\n",
    "\n",
    "## IPython básico"
   ]
  },
  {
   "cell_type": "code",
   "execution_count": null,
   "id": "stock-approval",
   "metadata": {
    "attributes": {
     "classes": [
      "shell"
     ],
     "id": ""
    }
   },
   "outputs": [],
   "source": [
    "$ ipython\n",
    "Python 3.6.0 | packaged by conda-forge | (default, Jan 13 2017, 23:17:12)\n",
    "Type \"copyright\", \"credits\" or \"license\" for more information.\n",
    "\n",
    "IPython 5.1.0 -- An enhanced Interactive Python.\n",
    "?         -> Introduction and overview of IPython's features.\n",
    "%quickref -> Quick reference.\n",
    "help      -> Python's own help system.\n",
    "object?   -> Details about 'object', use 'object??' for extra details.\n",
    "\n",
    "In [1]: %run hello_world.py\n",
    "Hello world\n",
    "\n",
    "In [2]:"
   ]
  },
  {
   "cell_type": "markdown",
   "id": "personalized-banking",
   "metadata": {},
   "source": [
    "## Introspection"
   ]
  },
  {
   "cell_type": "code",
   "execution_count": null,
   "id": "respected-complement",
   "metadata": {},
   "outputs": [],
   "source": [
    "In [8]: b = [1, 2, 3]\n",
    "\n",
    "In [9]: b?\n",
    "Type:       list\n",
    "String Form:[1, 2, 3]\n",
    "Length:     3\n",
    "Docstring:\n",
    "list() -> new empty list\n",
    "list(iterable) -> new list initialized from iterable's items"
   ]
  },
  {
   "cell_type": "markdown",
   "id": "announced-delaware",
   "metadata": {},
   "source": [
    "## Introspection"
   ]
  },
  {
   "cell_type": "code",
   "execution_count": null,
   "id": "modified-helmet",
   "metadata": {},
   "outputs": [],
   "source": [
    "In [10]: print?\n",
    "Docstring:\n",
    "print(value, ..., sep=' ', end='\\n', file=sys.stdout, flush=False)\n",
    "\n",
    "Prints the values to a stream, or to sys.stdout by default.\n",
    "Optional keyword arguments:\n",
    "file:  a file-like object (stream); defaults to the current sys.stdout.\n",
    "sep:   string inserted between values, default a space.\n",
    "end:   string appended after the last value, default a newline.\n",
    "flush: whether to forcibly flush the stream.\n",
    "Type:      builtin_function_or_method"
   ]
  },
  {
   "cell_type": "markdown",
   "id": "public-adolescent",
   "metadata": {},
   "source": [
    "## Introspection {.smaller}"
   ]
  },
  {
   "cell_type": "code",
   "execution_count": null,
   "id": "agreed-slide",
   "metadata": {},
   "outputs": [],
   "source": [
    "def add_numbers(a, b):\n",
    "    \"\"\"\n",
    "    Add two numbers together\n",
    "\n",
    "    Returns\n",
    "    -------\n",
    "    the_sum : type of arguments\n",
    "    \"\"\"\n",
    "    return a + b"
   ]
  },
  {
   "cell_type": "code",
   "execution_count": null,
   "id": "latter-buying",
   "metadata": {},
   "outputs": [],
   "source": [
    "In [11]: add_numbers?\n",
    "Signature: add_numbers(a, b)\n",
    "Docstring:\n",
    "Add two numbers together\n",
    "\n",
    "Returns\n",
    "-------\n",
    "the_sum : type of arguments\n",
    "File:      <ipython-input-9-6a548a216e27>\n",
    "Type:      function"
   ]
  },
  {
   "cell_type": "markdown",
   "id": "anonymous-syndication",
   "metadata": {},
   "source": [
    "## Introspection"
   ]
  },
  {
   "cell_type": "code",
   "execution_count": null,
   "id": "solar-zambia",
   "metadata": {},
   "outputs": [],
   "source": [
    "In [12]: add_numbers??\n",
    "Signature: add_numbers(a, b)\n",
    "Source:\n",
    "def add_numbers(a, b):\n",
    "    \"\"\"\n",
    "    Add two numbers together\n",
    "\n",
    "    Returns\n",
    "    -------\n",
    "    the_sum : type of arguments\n",
    "    \"\"\"\n",
    "    return a + b\n",
    "File:      <ipython-input-9-6a548a216e27>\n",
    "Type:      function"
   ]
  },
  {
   "cell_type": "markdown",
   "id": "forbidden-congo",
   "metadata": {},
   "source": [
    "## Comando %run"
   ]
  },
  {
   "cell_type": "code",
   "execution_count": null,
   "id": "median-tsunami",
   "metadata": {},
   "outputs": [],
   "source": [
    "def f(x, y, z):\n",
    "    return (x + y) / z\n",
    "\n",
    "a = 5\n",
    "b = 6\n",
    "c = 7.5\n",
    "\n",
    "result = f(a, b, c)"
   ]
  },
  {
   "cell_type": "code",
   "execution_count": null,
   "id": "comfortable-friendly",
   "metadata": {},
   "outputs": [],
   "source": [
    "In [14]: %run ipython_script_test.py"
   ]
  },
  {
   "cell_type": "code",
   "execution_count": null,
   "id": "acting-minute",
   "metadata": {},
   "outputs": [],
   "source": [
    "In [15]: c\n",
    "Out [15]: 7.5\n",
    "\n",
    "In [16]: result\n",
    "Out[16]: 1.4666666666666666"
   ]
  },
  {
   "cell_type": "markdown",
   "id": "unexpected-porter",
   "metadata": {},
   "source": [
    "## Executando código da área de transferência"
   ]
  },
  {
   "cell_type": "code",
   "execution_count": null,
   "id": "distinguished-coaching",
   "metadata": {},
   "outputs": [],
   "source": [
    "x = 5\n",
    "y = 7\n",
    "if x > 5:\n",
    "    x += 1\n",
    "\n",
    "    y = 8"
   ]
  },
  {
   "cell_type": "code",
   "execution_count": null,
   "id": "polyphonic-guyana",
   "metadata": {},
   "outputs": [],
   "source": [
    "In [17]: %paste\n",
    "x = 5\n",
    "y = 7\n",
    "if x > 5:\n",
    "    x += 1\n",
    "\n",
    "    y = 8\n",
    "## -- End pasted text --"
   ]
  },
  {
   "cell_type": "markdown",
   "id": "chinese-operator",
   "metadata": {},
   "source": [
    "## Executando código da área de transferência"
   ]
  },
  {
   "cell_type": "code",
   "execution_count": null,
   "id": "alternative-running",
   "metadata": {},
   "outputs": [],
   "source": [
    "In [18]: %cpaste\n",
    "Pasting code; enter '--' alone on the line to stop or use Ctrl-D.\n",
    ":x = 5\n",
    ":y = 7\n",
    ":if x > 5:\n",
    ":    x += 1\n",
    ":\n",
    ":    y = 8\n",
    ":--"
   ]
  },
  {
   "cell_type": "markdown",
   "id": "under-spencer",
   "metadata": {},
   "source": [
    "# Referências\n",
    "\n",
    "- GRUS, Joel - Data Science do Zero: Primeiras Regras com Python, Editora Alta Books, 1a Edição, 2016;\n",
    "- McKinney, Wes - Python para Análise de Dados: Tratamento de Dados com Pandas, Numpy e IPython, Editora Novatec, 1a Edição, 2019;"
   ]
  }
 ],
 "metadata": {
  "kernelspec": {
   "display_name": "Python 3 (ipykernel)",
   "language": "python",
   "name": "python3"
  },
  "language_info": {
   "codemirror_mode": {
    "name": "ipython",
    "version": 3
   },
   "file_extension": ".py",
   "mimetype": "text/x-python",
   "name": "python",
   "nbconvert_exporter": "python",
   "pygments_lexer": "ipython3",
   "version": "3.9.7"
  }
 },
 "nbformat": 4,
 "nbformat_minor": 5
}
